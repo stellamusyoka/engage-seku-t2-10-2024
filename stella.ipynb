{
 "cells": [
  {
   "cell_type": "code",
   "execution_count": 4,
   "id": "6554f4f2-e7aa-4ddc-8f45-cc624378cfd6",
   "metadata": {},
   "outputs": [
    {
     "ename": "KeyboardInterrupt",
     "evalue": "Interrupted by user",
     "output_type": "error",
     "traceback": [
      "\u001b[1;31m---------------------------------------------------------------------------\u001b[0m",
      "\u001b[1;31mKeyboardInterrupt\u001b[0m                         Traceback (most recent call last)",
      "Cell \u001b[1;32mIn[4], line 1\u001b[0m\n\u001b[1;32m----> 1\u001b[0m length\u001b[38;5;241m=\u001b[39m\u001b[38;5;28mint\u001b[39m(\u001b[38;5;28minput\u001b[39m(\u001b[38;5;124m\"\u001b[39m\u001b[38;5;124menter the length\u001b[39m\u001b[38;5;124m\"\u001b[39m)) \n\u001b[0;32m      2\u001b[0m width\u001b[38;5;241m=\u001b[39m\u001b[38;5;28mint\u001b[39m(\u001b[38;5;28minput\u001b[39m(\u001b[38;5;124m\"\u001b[39m\u001b[38;5;124menter the width\u001b[39m\u001b[38;5;124m\"\u001b[39m))\n\u001b[0;32m      3\u001b[0m area\u001b[38;5;241m=\u001b[39m(length\u001b[38;5;241m*\u001b[39mwidth)\n",
      "File \u001b[1;32m~\\anaconda3\\Lib\\site-packages\\ipykernel\\kernelbase.py:1262\u001b[0m, in \u001b[0;36mKernel.raw_input\u001b[1;34m(self, prompt)\u001b[0m\n\u001b[0;32m   1260\u001b[0m     msg \u001b[38;5;241m=\u001b[39m \u001b[38;5;124m\"\u001b[39m\u001b[38;5;124mraw_input was called, but this frontend does not support input requests.\u001b[39m\u001b[38;5;124m\"\u001b[39m\n\u001b[0;32m   1261\u001b[0m     \u001b[38;5;28;01mraise\u001b[39;00m StdinNotImplementedError(msg)\n\u001b[1;32m-> 1262\u001b[0m \u001b[38;5;28;01mreturn\u001b[39;00m \u001b[38;5;28mself\u001b[39m\u001b[38;5;241m.\u001b[39m_input_request(\n\u001b[0;32m   1263\u001b[0m     \u001b[38;5;28mstr\u001b[39m(prompt),\n\u001b[0;32m   1264\u001b[0m     \u001b[38;5;28mself\u001b[39m\u001b[38;5;241m.\u001b[39m_parent_ident[\u001b[38;5;124m\"\u001b[39m\u001b[38;5;124mshell\u001b[39m\u001b[38;5;124m\"\u001b[39m],\n\u001b[0;32m   1265\u001b[0m     \u001b[38;5;28mself\u001b[39m\u001b[38;5;241m.\u001b[39mget_parent(\u001b[38;5;124m\"\u001b[39m\u001b[38;5;124mshell\u001b[39m\u001b[38;5;124m\"\u001b[39m),\n\u001b[0;32m   1266\u001b[0m     password\u001b[38;5;241m=\u001b[39m\u001b[38;5;28;01mFalse\u001b[39;00m,\n\u001b[0;32m   1267\u001b[0m )\n",
      "File \u001b[1;32m~\\anaconda3\\Lib\\site-packages\\ipykernel\\kernelbase.py:1305\u001b[0m, in \u001b[0;36mKernel._input_request\u001b[1;34m(self, prompt, ident, parent, password)\u001b[0m\n\u001b[0;32m   1302\u001b[0m \u001b[38;5;28;01mexcept\u001b[39;00m \u001b[38;5;167;01mKeyboardInterrupt\u001b[39;00m:\n\u001b[0;32m   1303\u001b[0m     \u001b[38;5;66;03m# re-raise KeyboardInterrupt, to truncate traceback\u001b[39;00m\n\u001b[0;32m   1304\u001b[0m     msg \u001b[38;5;241m=\u001b[39m \u001b[38;5;124m\"\u001b[39m\u001b[38;5;124mInterrupted by user\u001b[39m\u001b[38;5;124m\"\u001b[39m\n\u001b[1;32m-> 1305\u001b[0m     \u001b[38;5;28;01mraise\u001b[39;00m \u001b[38;5;167;01mKeyboardInterrupt\u001b[39;00m(msg) \u001b[38;5;28;01mfrom\u001b[39;00m \u001b[38;5;28;01mNone\u001b[39;00m\n\u001b[0;32m   1306\u001b[0m \u001b[38;5;28;01mexcept\u001b[39;00m \u001b[38;5;167;01mException\u001b[39;00m:\n\u001b[0;32m   1307\u001b[0m     \u001b[38;5;28mself\u001b[39m\u001b[38;5;241m.\u001b[39mlog\u001b[38;5;241m.\u001b[39mwarning(\u001b[38;5;124m\"\u001b[39m\u001b[38;5;124mInvalid Message:\u001b[39m\u001b[38;5;124m\"\u001b[39m, exc_info\u001b[38;5;241m=\u001b[39m\u001b[38;5;28;01mTrue\u001b[39;00m)\n",
      "\u001b[1;31mKeyboardInterrupt\u001b[0m: Interrupted by user"
     ]
    }
   ],
   "source": [
    "length=int(input(\"enter the length\")) \n",
    "width=int(input(\"enter the width\"))\n",
    "area=(length*width)\n",
    "perimeter=2*(length+width)\n",
    "print(\"area is:\",area)\n",
    "print(\"perimeter is:\",perimeter)"
   ]
  },
  {
   "cell_type": "code",
   "execution_count": 9,
   "id": "3cf471e9-6bc3-4125-b227-f0a1367c31e6",
   "metadata": {},
   "outputs": [
    {
     "name": "stdin",
     "output_type": "stream",
     "text": [
      "enter your year of birth 2017\n"
     ]
    },
    {
     "name": "stdout",
     "output_type": "stream",
     "text": [
      "the age: 7\n",
      "he is a child\n"
     ]
    }
   ],
   "source": [
    "YOB=int(input(\"enter your year of birth\"))\n",
    "current=2024\n",
    "age=current-YOB\n",
    "print(\"the age:\",age)\n",
    "if age<=18:\n",
    "    print(\"he is a child\")\n",
    "else:\n",
    "    print(\"he is adult\")"
   ]
  },
  {
   "cell_type": "code",
   "execution_count": 5,
   "id": "f3b4af9e-fe71-4554-9d92-503aa491d5be",
   "metadata": {},
   "outputs": [
    {
     "name": "stdout",
     "output_type": "stream",
     "text": [
      "x is not positive\n"
     ]
    }
   ],
   "source": [
    "x=-5\n",
    "if x>0:\n",
    "    print(\"x is positive\")\n",
    "else:\n",
    "    print(\"x is not positive\")"
   ]
  },
  {
   "cell_type": "code",
   "execution_count": 6,
   "id": "9e0fc98b-5683-44a9-8eba-cee72313047e",
   "metadata": {},
   "outputs": [
    {
     "ename": "IndentationError",
     "evalue": "unindent does not match any outer indentation level (<tokenize>, line 5)",
     "output_type": "error",
     "traceback": [
      "\u001b[1;36m  File \u001b[1;32m<tokenize>:5\u001b[1;36m\u001b[0m\n\u001b[1;33m    num=int(input(\"enter a number\"))\u001b[0m\n\u001b[1;37m    ^\u001b[0m\n\u001b[1;31mIndentationError\u001b[0m\u001b[1;31m:\u001b[0m unindent does not match any outer indentation level\n"
     ]
    }
   ],
   "source": [
    "sum=0\n",
    "i=1\n",
    "while i<10:\n",
    "    print(i)\n",
    " num=int(input(\"enter a number\"))\n",
    " sum+=num\n",
    "i++1\n",
    "print(sum)"
   ]
  },
  {
   "cell_type": "code",
   "execution_count": 1,
   "id": "91015ee4-49d6-4fd7-b8e6-38c790544708",
   "metadata": {},
   "outputs": [
    {
     "data": {
      "text/html": [
       "<div>\n",
       "<style scoped>\n",
       "    .dataframe tbody tr th:only-of-type {\n",
       "        vertical-align: middle;\n",
       "    }\n",
       "\n",
       "    .dataframe tbody tr th {\n",
       "        vertical-align: top;\n",
       "    }\n",
       "\n",
       "    .dataframe thead th {\n",
       "        text-align: right;\n",
       "    }\n",
       "</style>\n",
       "<table border=\"1\" class=\"dataframe\">\n",
       "  <thead>\n",
       "    <tr style=\"text-align: right;\">\n",
       "      <th></th>\n",
       "      <th>Child participated in POLIO campaign August 2013</th>\n",
       "      <th>diarrhea_status</th>\n",
       "      <th>weight</th>\n",
       "      <th>height</th>\n",
       "      <th>residence</th>\n",
       "      <th>Sex</th>\n",
       "      <th>age</th>\n",
       "      <th>age_category</th>\n",
       "      <th>education</th>\n",
       "      <th>wealth_index</th>\n",
       "    </tr>\n",
       "  </thead>\n",
       "  <tbody>\n",
       "    <tr>\n",
       "      <th>0</th>\n",
       "      <td>1</td>\n",
       "      <td>No</td>\n",
       "      <td>16.2</td>\n",
       "      <td>102.4</td>\n",
       "      <td>Rural</td>\n",
       "      <td>Female</td>\n",
       "      <td>45</td>\n",
       "      <td>36-47</td>\n",
       "      <td>Secondary+</td>\n",
       "      <td>Richest</td>\n",
       "    </tr>\n",
       "    <tr>\n",
       "      <th>1</th>\n",
       "      <td>1</td>\n",
       "      <td>No</td>\n",
       "      <td>13.5</td>\n",
       "      <td>92.5</td>\n",
       "      <td>Rural</td>\n",
       "      <td>Male</td>\n",
       "      <td>45</td>\n",
       "      <td>36-47</td>\n",
       "      <td>Primary</td>\n",
       "      <td>Second</td>\n",
       "    </tr>\n",
       "    <tr>\n",
       "      <th>2</th>\n",
       "      <td>1</td>\n",
       "      <td>No</td>\n",
       "      <td>13.4</td>\n",
       "      <td>88.5</td>\n",
       "      <td>Rural</td>\n",
       "      <td>Male</td>\n",
       "      <td>36</td>\n",
       "      <td>36-47</td>\n",
       "      <td>Primary</td>\n",
       "      <td>Fourth</td>\n",
       "    </tr>\n",
       "    <tr>\n",
       "      <th>3</th>\n",
       "      <td>1</td>\n",
       "      <td>No</td>\n",
       "      <td>15.0</td>\n",
       "      <td>101.3</td>\n",
       "      <td>Rural</td>\n",
       "      <td>Female</td>\n",
       "      <td>51</td>\n",
       "      <td>48-59</td>\n",
       "      <td>Primary</td>\n",
       "      <td>Fourth</td>\n",
       "    </tr>\n",
       "    <tr>\n",
       "      <th>4</th>\n",
       "      <td>1</td>\n",
       "      <td>No</td>\n",
       "      <td>15.2</td>\n",
       "      <td>105.0</td>\n",
       "      <td>Rural</td>\n",
       "      <td>Female</td>\n",
       "      <td>56</td>\n",
       "      <td>48-59</td>\n",
       "      <td>Primary</td>\n",
       "      <td>Fourth</td>\n",
       "    </tr>\n",
       "  </tbody>\n",
       "</table>\n",
       "</div>"
      ],
      "text/plain": [
       "   Child participated in POLIO campaign August 2013  diarrhea_status  weight  \\\n",
       "0                                                 1               No    16.2   \n",
       "1                                                 1               No    13.5   \n",
       "2                                                 1               No    13.4   \n",
       "3                                                 1               No    15.0   \n",
       "4                                                 1               No    15.2   \n",
       "\n",
       "   height residence     Sex  age age_category   education wealth_index  \n",
       "0   102.4     Rural  Female   45        36-47  Secondary+      Richest  \n",
       "1    92.5     Rural    Male   45        36-47     Primary       Second  \n",
       "2    88.5     Rural    Male   36        36-47     Primary       Fourth  \n",
       "3   101.3     Rural  Female   51        48-59     Primary       Fourth  \n",
       "4   105.0     Rural  Female   56        48-59     Primary       Fourth  "
      ]
     },
     "execution_count": 1,
     "metadata": {},
     "output_type": "execute_result"
    }
   ],
   "source": [
    "import pandas as pd\n",
    "df=pd.read_csv(\"childhealthdata.csv\")\n",
    "df.head()"
   ]
  },
  {
   "cell_type": "code",
   "execution_count": 24,
   "id": "f12fc34c-cbae-4660-bc17-f68e7cac2dd1",
   "metadata": {},
   "outputs": [
    {
     "data": {
      "text/html": [
       "<div>\n",
       "<style scoped>\n",
       "    .dataframe tbody tr th:only-of-type {\n",
       "        vertical-align: middle;\n",
       "    }\n",
       "\n",
       "    .dataframe tbody tr th {\n",
       "        vertical-align: top;\n",
       "    }\n",
       "\n",
       "    .dataframe thead th {\n",
       "        text-align: right;\n",
       "    }\n",
       "</style>\n",
       "<table border=\"1\" class=\"dataframe\">\n",
       "  <thead>\n",
       "    <tr style=\"text-align: right;\">\n",
       "      <th></th>\n",
       "      <th>Child participated in POLIO campaign August 2013</th>\n",
       "      <th>weight</th>\n",
       "      <th>height</th>\n",
       "      <th>age</th>\n",
       "    </tr>\n",
       "  </thead>\n",
       "  <tbody>\n",
       "    <tr>\n",
       "      <th>count</th>\n",
       "      <td>799.000000</td>\n",
       "      <td>799.000000</td>\n",
       "      <td>799.000000</td>\n",
       "      <td>799.000000</td>\n",
       "    </tr>\n",
       "    <tr>\n",
       "      <th>mean</th>\n",
       "      <td>1.234043</td>\n",
       "      <td>11.591114</td>\n",
       "      <td>83.858573</td>\n",
       "      <td>29.314143</td>\n",
       "    </tr>\n",
       "    <tr>\n",
       "      <th>std</th>\n",
       "      <td>0.850500</td>\n",
       "      <td>3.408729</td>\n",
       "      <td>13.795704</td>\n",
       "      <td>16.839659</td>\n",
       "    </tr>\n",
       "    <tr>\n",
       "      <th>min</th>\n",
       "      <td>1.000000</td>\n",
       "      <td>3.100000</td>\n",
       "      <td>45.000000</td>\n",
       "      <td>0.000000</td>\n",
       "    </tr>\n",
       "    <tr>\n",
       "      <th>25%</th>\n",
       "      <td>1.000000</td>\n",
       "      <td>9.200000</td>\n",
       "      <td>74.000000</td>\n",
       "      <td>15.000000</td>\n",
       "    </tr>\n",
       "    <tr>\n",
       "      <th>50%</th>\n",
       "      <td>1.000000</td>\n",
       "      <td>11.700000</td>\n",
       "      <td>84.900000</td>\n",
       "      <td>31.000000</td>\n",
       "    </tr>\n",
       "    <tr>\n",
       "      <th>75%</th>\n",
       "      <td>1.000000</td>\n",
       "      <td>14.100000</td>\n",
       "      <td>93.850000</td>\n",
       "      <td>43.000000</td>\n",
       "    </tr>\n",
       "    <tr>\n",
       "      <th>max</th>\n",
       "      <td>9.000000</td>\n",
       "      <td>25.000000</td>\n",
       "      <td>124.800000</td>\n",
       "      <td>59.000000</td>\n",
       "    </tr>\n",
       "  </tbody>\n",
       "</table>\n",
       "</div>"
      ],
      "text/plain": [
       "       Child participated in POLIO campaign August 2013      weight  \\\n",
       "count                                        799.000000  799.000000   \n",
       "mean                                           1.234043   11.591114   \n",
       "std                                            0.850500    3.408729   \n",
       "min                                            1.000000    3.100000   \n",
       "25%                                            1.000000    9.200000   \n",
       "50%                                            1.000000   11.700000   \n",
       "75%                                            1.000000   14.100000   \n",
       "max                                            9.000000   25.000000   \n",
       "\n",
       "           height         age  \n",
       "count  799.000000  799.000000  \n",
       "mean    83.858573   29.314143  \n",
       "std     13.795704   16.839659  \n",
       "min     45.000000    0.000000  \n",
       "25%     74.000000   15.000000  \n",
       "50%     84.900000   31.000000  \n",
       "75%     93.850000   43.000000  \n",
       "max    124.800000   59.000000  "
      ]
     },
     "execution_count": 24,
     "metadata": {},
     "output_type": "execute_result"
    }
   ],
   "source": [
    "df.describe()"
   ]
  },
  {
   "cell_type": "code",
   "execution_count": 2,
   "id": "08a2375d-cae8-4d8d-bd9e-a6166b3cd219",
   "metadata": {},
   "outputs": [
    {
     "ename": "AttributeError",
     "evalue": "'DataFrame' object has no attribute 'unique'",
     "output_type": "error",
     "traceback": [
      "\u001b[1;31m---------------------------------------------------------------------------\u001b[0m",
      "\u001b[1;31mAttributeError\u001b[0m                            Traceback (most recent call last)",
      "\u001b[1;32m~\\AppData\\Local\\Temp\\ipykernel_11616\\1660334235.py\u001b[0m in \u001b[0;36m?\u001b[1;34m()\u001b[0m\n\u001b[1;32m----> 1\u001b[1;33m \u001b[0mdf\u001b[0m\u001b[1;33m.\u001b[0m\u001b[0munique\u001b[0m\u001b[1;33m(\u001b[0m\u001b[1;33m)\u001b[0m\u001b[1;33m\u001b[0m\u001b[1;33m\u001b[0m\u001b[0m\n\u001b[0m",
      "\u001b[1;32m~\\anaconda3\\Lib\\site-packages\\pandas\\core\\generic.py\u001b[0m in \u001b[0;36m?\u001b[1;34m(self, name)\u001b[0m\n\u001b[0;32m   6295\u001b[0m             \u001b[1;32mand\u001b[0m \u001b[0mname\u001b[0m \u001b[1;32mnot\u001b[0m \u001b[1;32min\u001b[0m \u001b[0mself\u001b[0m\u001b[1;33m.\u001b[0m\u001b[0m_accessors\u001b[0m\u001b[1;33m\u001b[0m\u001b[1;33m\u001b[0m\u001b[0m\n\u001b[0;32m   6296\u001b[0m             \u001b[1;32mand\u001b[0m \u001b[0mself\u001b[0m\u001b[1;33m.\u001b[0m\u001b[0m_info_axis\u001b[0m\u001b[1;33m.\u001b[0m\u001b[0m_can_hold_identifiers_and_holds_name\u001b[0m\u001b[1;33m(\u001b[0m\u001b[0mname\u001b[0m\u001b[1;33m)\u001b[0m\u001b[1;33m\u001b[0m\u001b[1;33m\u001b[0m\u001b[0m\n\u001b[0;32m   6297\u001b[0m         ):\n\u001b[0;32m   6298\u001b[0m             \u001b[1;32mreturn\u001b[0m \u001b[0mself\u001b[0m\u001b[1;33m[\u001b[0m\u001b[0mname\u001b[0m\u001b[1;33m]\u001b[0m\u001b[1;33m\u001b[0m\u001b[1;33m\u001b[0m\u001b[0m\n\u001b[1;32m-> 6299\u001b[1;33m         \u001b[1;32mreturn\u001b[0m \u001b[0mobject\u001b[0m\u001b[1;33m.\u001b[0m\u001b[0m__getattribute__\u001b[0m\u001b[1;33m(\u001b[0m\u001b[0mself\u001b[0m\u001b[1;33m,\u001b[0m \u001b[0mname\u001b[0m\u001b[1;33m)\u001b[0m\u001b[1;33m\u001b[0m\u001b[1;33m\u001b[0m\u001b[0m\n\u001b[0m",
      "\u001b[1;31mAttributeError\u001b[0m: 'DataFrame' object has no attribute 'unique'"
     ]
    }
   ],
   "source": [
    "df.unique()"
   ]
  },
  {
   "cell_type": "code",
   "execution_count": 4,
   "id": "92834c71-396c-407a-97ff-96d9fcef37d7",
   "metadata": {},
   "outputs": [
    {
     "name": "stdout",
     "output_type": "stream",
     "text": [
      "['Secondary+' 'Primary' nan]\n"
     ]
    }
   ],
   "source": [
    "print(df['education'].unique())"
   ]
  },
  {
   "cell_type": "code",
   "execution_count": 5,
   "id": "6b44fbf0-6f06-45b6-a9ab-b5f7a8aa9e3e",
   "metadata": {},
   "outputs": [
    {
     "name": "stdout",
     "output_type": "stream",
     "text": [
      "['Rural' 'Urban']\n"
     ]
    }
   ],
   "source": [
    "print(df['residence'].unique())"
   ]
  },
  {
   "cell_type": "code",
   "execution_count": 6,
   "id": "c00f1dac-1de8-4899-be6b-862165c1fd92",
   "metadata": {},
   "outputs": [
    {
     "name": "stdout",
     "output_type": "stream",
     "text": [
      "education\n",
      "Primary       476\n",
      "Secondary+    292\n",
      "Name: count, dtype: int64\n"
     ]
    }
   ],
   "source": [
    "print(df['education'].value_counts())"
   ]
  },
  {
   "cell_type": "code",
   "execution_count": 7,
   "id": "e46e4317-ac43-4b78-8565-2fcb6b035d17",
   "metadata": {},
   "outputs": [
    {
     "name": "stdout",
     "output_type": "stream",
     "text": [
      "wealth_index\n",
      "Poorest    197\n",
      "Fourth     156\n",
      "Second     154\n",
      "Richest    152\n",
      "Middle     140\n",
      "Name: count, dtype: int64\n"
     ]
    }
   ],
   "source": [
    "print(df['wealth_index'].value_counts())"
   ]
  },
  {
   "cell_type": "code",
   "execution_count": 4,
   "id": "347bad05-19ae-4a5f-b4f0-f0c3a4f630c7",
   "metadata": {},
   "outputs": [
    {
     "data": {
      "text/html": [
       "<div>\n",
       "<style scoped>\n",
       "    .dataframe tbody tr th:only-of-type {\n",
       "        vertical-align: middle;\n",
       "    }\n",
       "\n",
       "    .dataframe tbody tr th {\n",
       "        vertical-align: top;\n",
       "    }\n",
       "\n",
       "    .dataframe thead th {\n",
       "        text-align: right;\n",
       "    }\n",
       "</style>\n",
       "<table border=\"1\" class=\"dataframe\">\n",
       "  <thead>\n",
       "    <tr style=\"text-align: right;\">\n",
       "      <th></th>\n",
       "      <th>Child participated in POLIO campaign August 2013</th>\n",
       "      <th>diarrhea_status</th>\n",
       "      <th>weight</th>\n",
       "      <th>height</th>\n",
       "      <th>residence</th>\n",
       "      <th>Sex</th>\n",
       "      <th>age</th>\n",
       "      <th>age_category</th>\n",
       "      <th>education</th>\n",
       "      <th>wealth_index</th>\n",
       "    </tr>\n",
       "  </thead>\n",
       "  <tbody>\n",
       "    <tr>\n",
       "      <th>0</th>\n",
       "      <td>1</td>\n",
       "      <td>No</td>\n",
       "      <td>16.2</td>\n",
       "      <td>102.4</td>\n",
       "      <td>Rural</td>\n",
       "      <td>Female</td>\n",
       "      <td>45</td>\n",
       "      <td>36-47</td>\n",
       "      <td>Secondary+</td>\n",
       "      <td>Richest</td>\n",
       "    </tr>\n",
       "    <tr>\n",
       "      <th>1</th>\n",
       "      <td>1</td>\n",
       "      <td>No</td>\n",
       "      <td>13.5</td>\n",
       "      <td>92.5</td>\n",
       "      <td>Rural</td>\n",
       "      <td>Male</td>\n",
       "      <td>45</td>\n",
       "      <td>36-47</td>\n",
       "      <td>Primary</td>\n",
       "      <td>Second</td>\n",
       "    </tr>\n",
       "    <tr>\n",
       "      <th>2</th>\n",
       "      <td>1</td>\n",
       "      <td>No</td>\n",
       "      <td>13.4</td>\n",
       "      <td>88.5</td>\n",
       "      <td>Rural</td>\n",
       "      <td>Male</td>\n",
       "      <td>36</td>\n",
       "      <td>36-47</td>\n",
       "      <td>Primary</td>\n",
       "      <td>Fourth</td>\n",
       "    </tr>\n",
       "    <tr>\n",
       "      <th>3</th>\n",
       "      <td>1</td>\n",
       "      <td>No</td>\n",
       "      <td>15.0</td>\n",
       "      <td>101.3</td>\n",
       "      <td>Rural</td>\n",
       "      <td>Female</td>\n",
       "      <td>51</td>\n",
       "      <td>48-59</td>\n",
       "      <td>Primary</td>\n",
       "      <td>Fourth</td>\n",
       "    </tr>\n",
       "    <tr>\n",
       "      <th>4</th>\n",
       "      <td>1</td>\n",
       "      <td>No</td>\n",
       "      <td>15.2</td>\n",
       "      <td>105.0</td>\n",
       "      <td>Rural</td>\n",
       "      <td>Female</td>\n",
       "      <td>56</td>\n",
       "      <td>48-59</td>\n",
       "      <td>Primary</td>\n",
       "      <td>Fourth</td>\n",
       "    </tr>\n",
       "  </tbody>\n",
       "</table>\n",
       "</div>"
      ],
      "text/plain": [
       "   Child participated in POLIO campaign August 2013  diarrhea_status  weight  \\\n",
       "0                                                 1               No    16.2   \n",
       "1                                                 1               No    13.5   \n",
       "2                                                 1               No    13.4   \n",
       "3                                                 1               No    15.0   \n",
       "4                                                 1               No    15.2   \n",
       "\n",
       "   height residence     Sex  age age_category   education wealth_index  \n",
       "0   102.4     Rural  Female   45        36-47  Secondary+      Richest  \n",
       "1    92.5     Rural    Male   45        36-47     Primary       Second  \n",
       "2    88.5     Rural    Male   36        36-47     Primary       Fourth  \n",
       "3   101.3     Rural  Female   51        48-59     Primary       Fourth  \n",
       "4   105.0     Rural  Female   56        48-59     Primary       Fourth  "
      ]
     },
     "execution_count": 4,
     "metadata": {},
     "output_type": "execute_result"
    }
   ],
   "source": [
    "import pandas as pd\n",
    "df=pd.read_csv(\"childhealthdata.csv\")\n",
    "df.head()\n"
   ]
  },
  {
   "cell_type": "code",
   "execution_count": 13,
   "id": "e5fc69eb-ac9f-498a-8cab-778080c6db89",
   "metadata": {},
   "outputs": [
    {
     "data": {
      "text/html": [
       "<div>\n",
       "<style scoped>\n",
       "    .dataframe tbody tr th:only-of-type {\n",
       "        vertical-align: middle;\n",
       "    }\n",
       "\n",
       "    .dataframe tbody tr th {\n",
       "        vertical-align: top;\n",
       "    }\n",
       "\n",
       "    .dataframe thead th {\n",
       "        text-align: right;\n",
       "    }\n",
       "</style>\n",
       "<table border=\"1\" class=\"dataframe\">\n",
       "  <thead>\n",
       "    <tr style=\"text-align: right;\">\n",
       "      <th></th>\n",
       "      <th>Child participated in POLIO campaign August 2013</th>\n",
       "      <th>diarrhea_status</th>\n",
       "      <th>weight</th>\n",
       "      <th>height</th>\n",
       "      <th>residence</th>\n",
       "      <th>Sex</th>\n",
       "      <th>age</th>\n",
       "      <th>age_category</th>\n",
       "      <th>education</th>\n",
       "      <th>wealth_index</th>\n",
       "    </tr>\n",
       "  </thead>\n",
       "  <tbody>\n",
       "    <tr>\n",
       "      <th>0</th>\n",
       "      <td>1</td>\n",
       "      <td>No</td>\n",
       "      <td>16.2</td>\n",
       "      <td>102.4</td>\n",
       "      <td>Rural</td>\n",
       "      <td>Female</td>\n",
       "      <td>45</td>\n",
       "      <td>36-47</td>\n",
       "      <td>Secondary+</td>\n",
       "      <td>Richest</td>\n",
       "    </tr>\n",
       "    <tr>\n",
       "      <th>1</th>\n",
       "      <td>1</td>\n",
       "      <td>No</td>\n",
       "      <td>13.5</td>\n",
       "      <td>92.5</td>\n",
       "      <td>Rural</td>\n",
       "      <td>Male</td>\n",
       "      <td>45</td>\n",
       "      <td>36-47</td>\n",
       "      <td>Primary</td>\n",
       "      <td>Second</td>\n",
       "    </tr>\n",
       "    <tr>\n",
       "      <th>2</th>\n",
       "      <td>1</td>\n",
       "      <td>No</td>\n",
       "      <td>13.4</td>\n",
       "      <td>88.5</td>\n",
       "      <td>Rural</td>\n",
       "      <td>Male</td>\n",
       "      <td>36</td>\n",
       "      <td>36-47</td>\n",
       "      <td>Primary</td>\n",
       "      <td>Fourth</td>\n",
       "    </tr>\n",
       "    <tr>\n",
       "      <th>3</th>\n",
       "      <td>1</td>\n",
       "      <td>No</td>\n",
       "      <td>15.0</td>\n",
       "      <td>101.3</td>\n",
       "      <td>Rural</td>\n",
       "      <td>Female</td>\n",
       "      <td>51</td>\n",
       "      <td>48-59</td>\n",
       "      <td>Primary</td>\n",
       "      <td>Fourth</td>\n",
       "    </tr>\n",
       "    <tr>\n",
       "      <th>4</th>\n",
       "      <td>1</td>\n",
       "      <td>No</td>\n",
       "      <td>15.2</td>\n",
       "      <td>105.0</td>\n",
       "      <td>Rural</td>\n",
       "      <td>Female</td>\n",
       "      <td>56</td>\n",
       "      <td>48-59</td>\n",
       "      <td>Primary</td>\n",
       "      <td>Fourth</td>\n",
       "    </tr>\n",
       "  </tbody>\n",
       "</table>\n",
       "</div>"
      ],
      "text/plain": [
       "   Child participated in POLIO campaign August 2013  diarrhea_status  weight  \\\n",
       "0                                                 1               No    16.2   \n",
       "1                                                 1               No    13.5   \n",
       "2                                                 1               No    13.4   \n",
       "3                                                 1               No    15.0   \n",
       "4                                                 1               No    15.2   \n",
       "\n",
       "   height residence     Sex  age age_category   education wealth_index  \n",
       "0   102.4     Rural  Female   45        36-47  Secondary+      Richest  \n",
       "1    92.5     Rural    Male   45        36-47     Primary       Second  \n",
       "2    88.5     Rural    Male   36        36-47     Primary       Fourth  \n",
       "3   101.3     Rural  Female   51        48-59     Primary       Fourth  \n",
       "4   105.0     Rural  Female   56        48-59     Primary       Fourth  "
      ]
     },
     "execution_count": 13,
     "metadata": {},
     "output_type": "execute_result"
    }
   ],
   "source": [
    "df.head(5)"
   ]
  },
  {
   "cell_type": "code",
   "execution_count": 14,
   "id": "20d3f62c-2826-4b2f-8f84-b9215620bfb5",
   "metadata": {},
   "outputs": [
    {
     "data": {
      "text/html": [
       "<div>\n",
       "<style scoped>\n",
       "    .dataframe tbody tr th:only-of-type {\n",
       "        vertical-align: middle;\n",
       "    }\n",
       "\n",
       "    .dataframe tbody tr th {\n",
       "        vertical-align: top;\n",
       "    }\n",
       "\n",
       "    .dataframe thead th {\n",
       "        text-align: right;\n",
       "    }\n",
       "</style>\n",
       "<table border=\"1\" class=\"dataframe\">\n",
       "  <thead>\n",
       "    <tr style=\"text-align: right;\">\n",
       "      <th></th>\n",
       "      <th>Child participated in POLIO campaign August 2013</th>\n",
       "      <th>diarrhea_status</th>\n",
       "      <th>weight</th>\n",
       "      <th>height</th>\n",
       "      <th>residence</th>\n",
       "      <th>Sex</th>\n",
       "      <th>age</th>\n",
       "      <th>age_category</th>\n",
       "      <th>education</th>\n",
       "      <th>wealth_index</th>\n",
       "    </tr>\n",
       "  </thead>\n",
       "  <tbody>\n",
       "    <tr>\n",
       "      <th>794</th>\n",
       "      <td>1</td>\n",
       "      <td>No</td>\n",
       "      <td>8.3</td>\n",
       "      <td>67.0</td>\n",
       "      <td>Urban</td>\n",
       "      <td>Female</td>\n",
       "      <td>7</td>\n",
       "      <td>6-11</td>\n",
       "      <td>Primary</td>\n",
       "      <td>Fourth</td>\n",
       "    </tr>\n",
       "    <tr>\n",
       "      <th>795</th>\n",
       "      <td>2</td>\n",
       "      <td>No</td>\n",
       "      <td>3.5</td>\n",
       "      <td>45.0</td>\n",
       "      <td>Urban</td>\n",
       "      <td>Male</td>\n",
       "      <td>0</td>\n",
       "      <td>0-5</td>\n",
       "      <td>Secondary+</td>\n",
       "      <td>Fourth</td>\n",
       "    </tr>\n",
       "    <tr>\n",
       "      <th>796</th>\n",
       "      <td>1</td>\n",
       "      <td>No</td>\n",
       "      <td>15.1</td>\n",
       "      <td>86.0</td>\n",
       "      <td>Urban</td>\n",
       "      <td>Female</td>\n",
       "      <td>56</td>\n",
       "      <td>48-59</td>\n",
       "      <td>Primary</td>\n",
       "      <td>Fourth</td>\n",
       "    </tr>\n",
       "    <tr>\n",
       "      <th>797</th>\n",
       "      <td>1</td>\n",
       "      <td>No</td>\n",
       "      <td>10.7</td>\n",
       "      <td>71.2</td>\n",
       "      <td>Urban</td>\n",
       "      <td>Female</td>\n",
       "      <td>18</td>\n",
       "      <td>12-23</td>\n",
       "      <td>Primary</td>\n",
       "      <td>Fourth</td>\n",
       "    </tr>\n",
       "    <tr>\n",
       "      <th>798</th>\n",
       "      <td>1</td>\n",
       "      <td>No</td>\n",
       "      <td>10.3</td>\n",
       "      <td>73.0</td>\n",
       "      <td>Urban</td>\n",
       "      <td>Female</td>\n",
       "      <td>7</td>\n",
       "      <td>6-11</td>\n",
       "      <td>Primary</td>\n",
       "      <td>Middle</td>\n",
       "    </tr>\n",
       "  </tbody>\n",
       "</table>\n",
       "</div>"
      ],
      "text/plain": [
       "     Child participated in POLIO campaign August 2013  diarrhea_status  \\\n",
       "794                                                 1               No   \n",
       "795                                                 2               No   \n",
       "796                                                 1               No   \n",
       "797                                                 1               No   \n",
       "798                                                 1               No   \n",
       "\n",
       "     weight  height residence     Sex  age age_category   education  \\\n",
       "794     8.3    67.0     Urban  Female    7         6-11     Primary   \n",
       "795     3.5    45.0     Urban    Male    0          0-5  Secondary+   \n",
       "796    15.1    86.0     Urban  Female   56        48-59     Primary   \n",
       "797    10.7    71.2     Urban  Female   18        12-23     Primary   \n",
       "798    10.3    73.0     Urban  Female    7         6-11     Primary   \n",
       "\n",
       "    wealth_index  \n",
       "794       Fourth  \n",
       "795       Fourth  \n",
       "796       Fourth  \n",
       "797       Fourth  \n",
       "798       Middle  "
      ]
     },
     "execution_count": 14,
     "metadata": {},
     "output_type": "execute_result"
    }
   ],
   "source": [
    "df.tail(5)"
   ]
  },
  {
   "cell_type": "code",
   "execution_count": 16,
   "id": "d6936759-9f65-4de6-9482-860af4488267",
   "metadata": {},
   "outputs": [
    {
     "name": "stdout",
     "output_type": "stream",
     "text": [
      "<class 'pandas.core.frame.DataFrame'>\n",
      "RangeIndex: 799 entries, 0 to 798\n",
      "Data columns (total 10 columns):\n",
      " #   Column                                            Non-Null Count  Dtype  \n",
      "---  ------                                            --------------  -----  \n",
      " 0   Child participated in POLIO campaign August 2013  799 non-null    int64  \n",
      " 1    diarrhea_status                                  799 non-null    object \n",
      " 2   weight                                            799 non-null    float64\n",
      " 3   height                                            799 non-null    float64\n",
      " 4   residence                                         799 non-null    object \n",
      " 5   Sex                                               799 non-null    object \n",
      " 6   age                                               799 non-null    int64  \n",
      " 7   age_category                                      799 non-null    object \n",
      " 8   education                                         768 non-null    object \n",
      " 9   wealth_index                                      799 non-null    object \n",
      "dtypes: float64(2), int64(2), object(6)\n",
      "memory usage: 62.6+ KB\n"
     ]
    }
   ],
   "source": [
    "df.info()"
   ]
  },
  {
   "cell_type": "code",
   "execution_count": 3,
   "id": "4266cb88-d447-4b73-82b3-4ae1180dc425",
   "metadata": {},
   "outputs": [
    {
     "name": "stdout",
     "output_type": "stream",
     "text": [
      "x is not positive\n"
     ]
    }
   ],
   "source": [
    "x=-5\n",
    "if x>0:\n",
    "    print(\"x is positive\")\n",
    "else:\n",
    "    print(\"x is not positive\")"
   ]
  },
  {
   "cell_type": "code",
   "execution_count": 38,
   "id": "95a8cf34-f966-4e83-b5c4-3e57c5958750",
   "metadata": {},
   "outputs": [
    {
     "data": {
      "text/html": [
       "<div>\n",
       "<style scoped>\n",
       "    .dataframe tbody tr th:only-of-type {\n",
       "        vertical-align: middle;\n",
       "    }\n",
       "\n",
       "    .dataframe tbody tr th {\n",
       "        vertical-align: top;\n",
       "    }\n",
       "\n",
       "    .dataframe thead th {\n",
       "        text-align: right;\n",
       "    }\n",
       "</style>\n",
       "<table border=\"1\" class=\"dataframe\">\n",
       "  <thead>\n",
       "    <tr style=\"text-align: right;\">\n",
       "      <th></th>\n",
       "      <th>Child participated in POLIO campaign August 2013</th>\n",
       "      <th>diarrhea_status</th>\n",
       "      <th>weight</th>\n",
       "      <th>height</th>\n",
       "      <th>residence</th>\n",
       "      <th>Sex</th>\n",
       "      <th>age</th>\n",
       "      <th>age_category</th>\n",
       "      <th>education</th>\n",
       "      <th>wealth_index</th>\n",
       "    </tr>\n",
       "  </thead>\n",
       "  <tbody>\n",
       "    <tr>\n",
       "      <th>0</th>\n",
       "      <td>1</td>\n",
       "      <td>No</td>\n",
       "      <td>16.2</td>\n",
       "      <td>102.4</td>\n",
       "      <td>Rural</td>\n",
       "      <td>Female</td>\n",
       "      <td>45</td>\n",
       "      <td>36-47</td>\n",
       "      <td>Secondary+</td>\n",
       "      <td>Richest</td>\n",
       "    </tr>\n",
       "    <tr>\n",
       "      <th>1</th>\n",
       "      <td>1</td>\n",
       "      <td>No</td>\n",
       "      <td>13.5</td>\n",
       "      <td>92.5</td>\n",
       "      <td>Rural</td>\n",
       "      <td>Male</td>\n",
       "      <td>45</td>\n",
       "      <td>36-47</td>\n",
       "      <td>Primary</td>\n",
       "      <td>Second</td>\n",
       "    </tr>\n",
       "    <tr>\n",
       "      <th>2</th>\n",
       "      <td>1</td>\n",
       "      <td>No</td>\n",
       "      <td>13.4</td>\n",
       "      <td>88.5</td>\n",
       "      <td>Rural</td>\n",
       "      <td>Male</td>\n",
       "      <td>36</td>\n",
       "      <td>36-47</td>\n",
       "      <td>Primary</td>\n",
       "      <td>Fourth</td>\n",
       "    </tr>\n",
       "    <tr>\n",
       "      <th>3</th>\n",
       "      <td>1</td>\n",
       "      <td>No</td>\n",
       "      <td>15.0</td>\n",
       "      <td>101.3</td>\n",
       "      <td>Rural</td>\n",
       "      <td>Female</td>\n",
       "      <td>51</td>\n",
       "      <td>48-59</td>\n",
       "      <td>Primary</td>\n",
       "      <td>Fourth</td>\n",
       "    </tr>\n",
       "    <tr>\n",
       "      <th>4</th>\n",
       "      <td>1</td>\n",
       "      <td>No</td>\n",
       "      <td>15.2</td>\n",
       "      <td>105.0</td>\n",
       "      <td>Rural</td>\n",
       "      <td>Female</td>\n",
       "      <td>56</td>\n",
       "      <td>48-59</td>\n",
       "      <td>Primary</td>\n",
       "      <td>Fourth</td>\n",
       "    </tr>\n",
       "  </tbody>\n",
       "</table>\n",
       "</div>"
      ],
      "text/plain": [
       "   Child participated in POLIO campaign August 2013  diarrhea_status  weight  \\\n",
       "0                                                 1               No    16.2   \n",
       "1                                                 1               No    13.5   \n",
       "2                                                 1               No    13.4   \n",
       "3                                                 1               No    15.0   \n",
       "4                                                 1               No    15.2   \n",
       "\n",
       "   height residence     Sex  age age_category   education wealth_index  \n",
       "0   102.4     Rural  Female   45        36-47  Secondary+      Richest  \n",
       "1    92.5     Rural    Male   45        36-47     Primary       Second  \n",
       "2    88.5     Rural    Male   36        36-47     Primary       Fourth  \n",
       "3   101.3     Rural  Female   51        48-59     Primary       Fourth  \n",
       "4   105.0     Rural  Female   56        48-59     Primary       Fourth  "
      ]
     },
     "execution_count": 38,
     "metadata": {},
     "output_type": "execute_result"
    }
   ],
   "source": [
    "import pandas as pd\n",
    "df=pd.read_csv('childhealthdata.csv')\n",
    "df_above_30=df[df['age']>30]\n",
    "df_above_30.head()"
   ]
  },
  {
   "cell_type": "code",
   "execution_count": 5,
   "id": "cd8092e1-c821-4c69-b988-90e9ddede2a9",
   "metadata": {},
   "outputs": [
    {
     "data": {
      "text/html": [
       "<div>\n",
       "<style scoped>\n",
       "    .dataframe tbody tr th:only-of-type {\n",
       "        vertical-align: middle;\n",
       "    }\n",
       "\n",
       "    .dataframe tbody tr th {\n",
       "        vertical-align: top;\n",
       "    }\n",
       "\n",
       "    .dataframe thead th {\n",
       "        text-align: right;\n",
       "    }\n",
       "</style>\n",
       "<table border=\"1\" class=\"dataframe\">\n",
       "  <thead>\n",
       "    <tr style=\"text-align: right;\">\n",
       "      <th></th>\n",
       "      <th>Child participated in POLIO campaign August 2013</th>\n",
       "      <th>diarrhea_status</th>\n",
       "      <th>weight</th>\n",
       "      <th>height</th>\n",
       "      <th>residence</th>\n",
       "      <th>Sex</th>\n",
       "      <th>age</th>\n",
       "      <th>age_category</th>\n",
       "      <th>education</th>\n",
       "      <th>wealth_index</th>\n",
       "    </tr>\n",
       "  </thead>\n",
       "  <tbody>\n",
       "    <tr>\n",
       "      <th>5</th>\n",
       "      <td>1</td>\n",
       "      <td>Yes</td>\n",
       "      <td>9.9</td>\n",
       "      <td>84.5</td>\n",
       "      <td>Rural</td>\n",
       "      <td>Female</td>\n",
       "      <td>20</td>\n",
       "      <td>12-23</td>\n",
       "      <td>Primary</td>\n",
       "      <td>Fourth</td>\n",
       "    </tr>\n",
       "    <tr>\n",
       "      <th>6</th>\n",
       "      <td>2</td>\n",
       "      <td>No</td>\n",
       "      <td>7.1</td>\n",
       "      <td>70.4</td>\n",
       "      <td>Rural</td>\n",
       "      <td>Female</td>\n",
       "      <td>4</td>\n",
       "      <td>0-5</td>\n",
       "      <td>Primary</td>\n",
       "      <td>Fourth</td>\n",
       "    </tr>\n",
       "    <tr>\n",
       "      <th>7</th>\n",
       "      <td>1</td>\n",
       "      <td>No</td>\n",
       "      <td>13.8</td>\n",
       "      <td>89.5</td>\n",
       "      <td>Rural</td>\n",
       "      <td>Male</td>\n",
       "      <td>27</td>\n",
       "      <td>24-35</td>\n",
       "      <td>Primary</td>\n",
       "      <td>Richest</td>\n",
       "    </tr>\n",
       "    <tr>\n",
       "      <th>9</th>\n",
       "      <td>1</td>\n",
       "      <td>Yes</td>\n",
       "      <td>8.2</td>\n",
       "      <td>73.9</td>\n",
       "      <td>Rural</td>\n",
       "      <td>Female</td>\n",
       "      <td>18</td>\n",
       "      <td>12-23</td>\n",
       "      <td>Primary</td>\n",
       "      <td>Poorest</td>\n",
       "    </tr>\n",
       "    <tr>\n",
       "      <th>12</th>\n",
       "      <td>1</td>\n",
       "      <td>Yes</td>\n",
       "      <td>8.0</td>\n",
       "      <td>77.7</td>\n",
       "      <td>Rural</td>\n",
       "      <td>Female</td>\n",
       "      <td>26</td>\n",
       "      <td>24-35</td>\n",
       "      <td>Primary</td>\n",
       "      <td>Poorest</td>\n",
       "    </tr>\n",
       "  </tbody>\n",
       "</table>\n",
       "</div>"
      ],
      "text/plain": [
       "    Child participated in POLIO campaign August 2013  diarrhea_status  weight  \\\n",
       "5                                                  1              Yes     9.9   \n",
       "6                                                  2               No     7.1   \n",
       "7                                                  1               No    13.8   \n",
       "9                                                  1              Yes     8.2   \n",
       "12                                                 1              Yes     8.0   \n",
       "\n",
       "    height residence     Sex  age age_category education wealth_index  \n",
       "5     84.5     Rural  Female   20        12-23   Primary       Fourth  \n",
       "6     70.4     Rural  Female    4          0-5   Primary       Fourth  \n",
       "7     89.5     Rural    Male   27        24-35   Primary      Richest  \n",
       "9     73.9     Rural  Female   18        12-23   Primary      Poorest  \n",
       "12    77.7     Rural  Female   26        24-35   Primary      Poorest  "
      ]
     },
     "execution_count": 5,
     "metadata": {},
     "output_type": "execute_result"
    }
   ],
   "source": [
    "df_30_and_less=df[df['age']<=30]\n",
    "df_30_and_less.head()"
   ]
  },
  {
   "cell_type": "code",
   "execution_count": 8,
   "id": "2096dd84-91dc-42d3-b8a5-c829487d4032",
   "metadata": {},
   "outputs": [
    {
     "data": {
      "text/html": [
       "<div>\n",
       "<style scoped>\n",
       "    .dataframe tbody tr th:only-of-type {\n",
       "        vertical-align: middle;\n",
       "    }\n",
       "\n",
       "    .dataframe tbody tr th {\n",
       "        vertical-align: top;\n",
       "    }\n",
       "\n",
       "    .dataframe thead th {\n",
       "        text-align: right;\n",
       "    }\n",
       "</style>\n",
       "<table border=\"1\" class=\"dataframe\">\n",
       "  <thead>\n",
       "    <tr style=\"text-align: right;\">\n",
       "      <th></th>\n",
       "      <th>Child participated in POLIO campaign August 2013</th>\n",
       "      <th>diarrhea_status</th>\n",
       "      <th>weight</th>\n",
       "      <th>height</th>\n",
       "      <th>residence</th>\n",
       "      <th>Sex</th>\n",
       "      <th>age</th>\n",
       "      <th>age_category</th>\n",
       "      <th>education</th>\n",
       "      <th>wealth_index</th>\n",
       "    </tr>\n",
       "  </thead>\n",
       "  <tbody>\n",
       "  </tbody>\n",
       "</table>\n",
       "</div>"
      ],
      "text/plain": [
       "Empty DataFrame\n",
       "Columns: [Child participated in POLIO campaign August 2013,  diarrhea_status, weight, height, residence, Sex, age, age_category, education, wealth_index]\n",
       "Index: []"
      ]
     },
     "execution_count": 8,
     "metadata": {},
     "output_type": "execute_result"
    }
   ],
   "source": [
    "df_18=df[(df['age']==18)&(df['Sex']=='female')]\n",
    "df_18.head()"
   ]
  },
  {
   "cell_type": "code",
   "execution_count": 12,
   "id": "32e82260-40a2-4b4a-ab00-99088d6925cf",
   "metadata": {},
   "outputs": [
    {
     "data": {
      "text/html": [
       "<div>\n",
       "<style scoped>\n",
       "    .dataframe tbody tr th:only-of-type {\n",
       "        vertical-align: middle;\n",
       "    }\n",
       "\n",
       "    .dataframe tbody tr th {\n",
       "        vertical-align: top;\n",
       "    }\n",
       "\n",
       "    .dataframe thead th {\n",
       "        text-align: right;\n",
       "    }\n",
       "</style>\n",
       "<table border=\"1\" class=\"dataframe\">\n",
       "  <thead>\n",
       "    <tr style=\"text-align: right;\">\n",
       "      <th></th>\n",
       "      <th>Child participated in POLIO campaign August 2013</th>\n",
       "      <th>diarrhea_status</th>\n",
       "      <th>weight</th>\n",
       "      <th>height</th>\n",
       "      <th>residence</th>\n",
       "      <th>Sex</th>\n",
       "      <th>age</th>\n",
       "      <th>age_category</th>\n",
       "      <th>education</th>\n",
       "      <th>wealth_index</th>\n",
       "    </tr>\n",
       "  </thead>\n",
       "  <tbody>\n",
       "    <tr>\n",
       "      <th>512</th>\n",
       "      <td>1</td>\n",
       "      <td>No</td>\n",
       "      <td>16.8</td>\n",
       "      <td>104.8</td>\n",
       "      <td>Rural</td>\n",
       "      <td>Female</td>\n",
       "      <td>59</td>\n",
       "      <td>48-59</td>\n",
       "      <td>Secondary+</td>\n",
       "      <td>Second</td>\n",
       "    </tr>\n",
       "    <tr>\n",
       "      <th>75</th>\n",
       "      <td>2</td>\n",
       "      <td>No</td>\n",
       "      <td>15.8</td>\n",
       "      <td>104.4</td>\n",
       "      <td>Rural</td>\n",
       "      <td>Male</td>\n",
       "      <td>59</td>\n",
       "      <td>48-59</td>\n",
       "      <td>Primary</td>\n",
       "      <td>Second</td>\n",
       "    </tr>\n",
       "    <tr>\n",
       "      <th>310</th>\n",
       "      <td>1</td>\n",
       "      <td>No</td>\n",
       "      <td>17.0</td>\n",
       "      <td>105.3</td>\n",
       "      <td>Urban</td>\n",
       "      <td>Male</td>\n",
       "      <td>59</td>\n",
       "      <td>48-59</td>\n",
       "      <td>Secondary+</td>\n",
       "      <td>Richest</td>\n",
       "    </tr>\n",
       "    <tr>\n",
       "      <th>196</th>\n",
       "      <td>1</td>\n",
       "      <td>No</td>\n",
       "      <td>16.0</td>\n",
       "      <td>102.4</td>\n",
       "      <td>Rural</td>\n",
       "      <td>Male</td>\n",
       "      <td>59</td>\n",
       "      <td>48-59</td>\n",
       "      <td>Primary</td>\n",
       "      <td>Poorest</td>\n",
       "    </tr>\n",
       "    <tr>\n",
       "      <th>723</th>\n",
       "      <td>1</td>\n",
       "      <td>No</td>\n",
       "      <td>15.6</td>\n",
       "      <td>88.5</td>\n",
       "      <td>Urban</td>\n",
       "      <td>Female</td>\n",
       "      <td>59</td>\n",
       "      <td>48-59</td>\n",
       "      <td>Primary</td>\n",
       "      <td>Second</td>\n",
       "    </tr>\n",
       "  </tbody>\n",
       "</table>\n",
       "</div>"
      ],
      "text/plain": [
       "     Child participated in POLIO campaign August 2013  diarrhea_status  \\\n",
       "512                                                 1               No   \n",
       "75                                                  2               No   \n",
       "310                                                 1               No   \n",
       "196                                                 1               No   \n",
       "723                                                 1               No   \n",
       "\n",
       "     weight  height residence     Sex  age age_category   education  \\\n",
       "512    16.8   104.8     Rural  Female   59        48-59  Secondary+   \n",
       "75     15.8   104.4     Rural    Male   59        48-59     Primary   \n",
       "310    17.0   105.3     Urban    Male   59        48-59  Secondary+   \n",
       "196    16.0   102.4     Rural    Male   59        48-59     Primary   \n",
       "723    15.6    88.5     Urban  Female   59        48-59     Primary   \n",
       "\n",
       "    wealth_index  \n",
       "512       Second  \n",
       "75        Second  \n",
       "310      Richest  \n",
       "196      Poorest  \n",
       "723       Second  "
      ]
     },
     "execution_count": 12,
     "metadata": {},
     "output_type": "execute_result"
    }
   ],
   "source": [
    "sorted_df=df.sort_values(by='age',ascending=False)\n",
    "sorted_df.head()"
   ]
  },
  {
   "cell_type": "code",
   "execution_count": 15,
   "id": "24cfbcf3-13e7-4845-929d-1a452f89aefc",
   "metadata": {},
   "outputs": [
    {
     "data": {
      "text/plain": [
       "Sex\n",
       "Female    398\n",
       "Male      401\n",
       "dtype: int64"
      ]
     },
     "execution_count": 15,
     "metadata": {},
     "output_type": "execute_result"
    }
   ],
   "source": [
    "df.groupby('Sex').size()"
   ]
  },
  {
   "cell_type": "code",
   "execution_count": 9,
   "id": "a33d05d6-0a73-4b8b-9361-b73252a4e732",
   "metadata": {},
   "outputs": [
    {
     "data": {
      "text/html": [
       "<div>\n",
       "<style scoped>\n",
       "    .dataframe tbody tr th:only-of-type {\n",
       "        vertical-align: middle;\n",
       "    }\n",
       "\n",
       "    .dataframe tbody tr th {\n",
       "        vertical-align: top;\n",
       "    }\n",
       "\n",
       "    .dataframe thead th {\n",
       "        text-align: right;\n",
       "    }\n",
       "</style>\n",
       "<table border=\"1\" class=\"dataframe\">\n",
       "  <thead>\n",
       "    <tr style=\"text-align: right;\">\n",
       "      <th></th>\n",
       "      <th>Child participated in POLIO campaign August 2013</th>\n",
       "      <th>diarrhea_status</th>\n",
       "      <th>weight</th>\n",
       "      <th>height</th>\n",
       "      <th>residence</th>\n",
       "      <th>Sex</th>\n",
       "      <th>age</th>\n",
       "      <th>age_category</th>\n",
       "      <th>education</th>\n",
       "      <th>wealth_index</th>\n",
       "      <th>is_adult</th>\n",
       "    </tr>\n",
       "  </thead>\n",
       "  <tbody>\n",
       "    <tr>\n",
       "      <th>0</th>\n",
       "      <td>1</td>\n",
       "      <td>No</td>\n",
       "      <td>16.2</td>\n",
       "      <td>102.4</td>\n",
       "      <td>Rural</td>\n",
       "      <td>FEMALE</td>\n",
       "      <td>45</td>\n",
       "      <td>36-47</td>\n",
       "      <td>Secondary+</td>\n",
       "      <td>Richest</td>\n",
       "      <td>Yes</td>\n",
       "    </tr>\n",
       "    <tr>\n",
       "      <th>1</th>\n",
       "      <td>1</td>\n",
       "      <td>No</td>\n",
       "      <td>13.5</td>\n",
       "      <td>92.5</td>\n",
       "      <td>Rural</td>\n",
       "      <td>MALE</td>\n",
       "      <td>45</td>\n",
       "      <td>36-47</td>\n",
       "      <td>Primary</td>\n",
       "      <td>Second</td>\n",
       "      <td>Yes</td>\n",
       "    </tr>\n",
       "    <tr>\n",
       "      <th>2</th>\n",
       "      <td>1</td>\n",
       "      <td>No</td>\n",
       "      <td>13.4</td>\n",
       "      <td>88.5</td>\n",
       "      <td>Rural</td>\n",
       "      <td>MALE</td>\n",
       "      <td>36</td>\n",
       "      <td>36-47</td>\n",
       "      <td>Primary</td>\n",
       "      <td>Fourth</td>\n",
       "      <td>Yes</td>\n",
       "    </tr>\n",
       "    <tr>\n",
       "      <th>3</th>\n",
       "      <td>1</td>\n",
       "      <td>No</td>\n",
       "      <td>15.0</td>\n",
       "      <td>101.3</td>\n",
       "      <td>Rural</td>\n",
       "      <td>FEMALE</td>\n",
       "      <td>51</td>\n",
       "      <td>48-59</td>\n",
       "      <td>Primary</td>\n",
       "      <td>Fourth</td>\n",
       "      <td>Yes</td>\n",
       "    </tr>\n",
       "    <tr>\n",
       "      <th>4</th>\n",
       "      <td>1</td>\n",
       "      <td>No</td>\n",
       "      <td>15.2</td>\n",
       "      <td>105.0</td>\n",
       "      <td>Rural</td>\n",
       "      <td>FEMALE</td>\n",
       "      <td>56</td>\n",
       "      <td>48-59</td>\n",
       "      <td>Primary</td>\n",
       "      <td>Fourth</td>\n",
       "      <td>Yes</td>\n",
       "    </tr>\n",
       "  </tbody>\n",
       "</table>\n",
       "</div>"
      ],
      "text/plain": [
       "   Child participated in POLIO campaign August 2013  diarrhea_status  weight  \\\n",
       "0                                                 1               No    16.2   \n",
       "1                                                 1               No    13.5   \n",
       "2                                                 1               No    13.4   \n",
       "3                                                 1               No    15.0   \n",
       "4                                                 1               No    15.2   \n",
       "\n",
       "   height residence     Sex  age age_category   education wealth_index  \\\n",
       "0   102.4     Rural  FEMALE   45        36-47  Secondary+      Richest   \n",
       "1    92.5     Rural    MALE   45        36-47     Primary       Second   \n",
       "2    88.5     Rural    MALE   36        36-47     Primary       Fourth   \n",
       "3   101.3     Rural  FEMALE   51        48-59     Primary       Fourth   \n",
       "4   105.0     Rural  FEMALE   56        48-59     Primary       Fourth   \n",
       "\n",
       "  is_adult  \n",
       "0      Yes  \n",
       "1      Yes  \n",
       "2      Yes  \n",
       "3      Yes  \n",
       "4      Yes  "
      ]
     },
     "execution_count": 9,
     "metadata": {},
     "output_type": "execute_result"
    }
   ],
   "source": [
    "df.loc[df['age']>=18,'is_adult']='Yes'\n",
    "df.loc[df['age']<18,'is_adult']='No'\n",
    "df.head()"
   ]
  },
  {
   "cell_type": "code",
   "execution_count": 26,
   "id": "37f5d81b-86bc-4776-b1c3-ccd178c35289",
   "metadata": {},
   "outputs": [],
   "source": [
    "df.drop_duplicates(inplace=True)"
   ]
  },
  {
   "cell_type": "code",
   "execution_count": 10,
   "id": "a067b7bf-2d29-4ffa-80bd-7c89396208bd",
   "metadata": {},
   "outputs": [
    {
     "data": {
      "text/html": [
       "<div>\n",
       "<style scoped>\n",
       "    .dataframe tbody tr th:only-of-type {\n",
       "        vertical-align: middle;\n",
       "    }\n",
       "\n",
       "    .dataframe tbody tr th {\n",
       "        vertical-align: top;\n",
       "    }\n",
       "\n",
       "    .dataframe thead th {\n",
       "        text-align: right;\n",
       "    }\n",
       "</style>\n",
       "<table border=\"1\" class=\"dataframe\">\n",
       "  <thead>\n",
       "    <tr style=\"text-align: right;\">\n",
       "      <th></th>\n",
       "      <th>Child participated in POLIO campaign August 2013</th>\n",
       "      <th>diarrhea_status</th>\n",
       "      <th>weight</th>\n",
       "      <th>height</th>\n",
       "      <th>residence</th>\n",
       "      <th>Sex</th>\n",
       "      <th>age</th>\n",
       "      <th>age_category</th>\n",
       "      <th>education</th>\n",
       "      <th>wealth_index</th>\n",
       "      <th>is_adult</th>\n",
       "    </tr>\n",
       "  </thead>\n",
       "  <tbody>\n",
       "    <tr>\n",
       "      <th>0</th>\n",
       "      <td>1</td>\n",
       "      <td>No</td>\n",
       "      <td>16.2</td>\n",
       "      <td>102.4</td>\n",
       "      <td>Rural</td>\n",
       "      <td>FEMALE</td>\n",
       "      <td>45</td>\n",
       "      <td>36-47</td>\n",
       "      <td>Secondary+</td>\n",
       "      <td>Richest</td>\n",
       "      <td>Yes</td>\n",
       "    </tr>\n",
       "    <tr>\n",
       "      <th>1</th>\n",
       "      <td>1</td>\n",
       "      <td>No</td>\n",
       "      <td>13.5</td>\n",
       "      <td>92.5</td>\n",
       "      <td>Rural</td>\n",
       "      <td>MALE</td>\n",
       "      <td>45</td>\n",
       "      <td>36-47</td>\n",
       "      <td>Primary</td>\n",
       "      <td>Second</td>\n",
       "      <td>Yes</td>\n",
       "    </tr>\n",
       "    <tr>\n",
       "      <th>2</th>\n",
       "      <td>1</td>\n",
       "      <td>No</td>\n",
       "      <td>13.4</td>\n",
       "      <td>88.5</td>\n",
       "      <td>Rural</td>\n",
       "      <td>MALE</td>\n",
       "      <td>36</td>\n",
       "      <td>36-47</td>\n",
       "      <td>Primary</td>\n",
       "      <td>Fourth</td>\n",
       "      <td>Yes</td>\n",
       "    </tr>\n",
       "    <tr>\n",
       "      <th>3</th>\n",
       "      <td>1</td>\n",
       "      <td>No</td>\n",
       "      <td>15.0</td>\n",
       "      <td>101.3</td>\n",
       "      <td>Rural</td>\n",
       "      <td>FEMALE</td>\n",
       "      <td>51</td>\n",
       "      <td>48-59</td>\n",
       "      <td>Primary</td>\n",
       "      <td>Fourth</td>\n",
       "      <td>Yes</td>\n",
       "    </tr>\n",
       "    <tr>\n",
       "      <th>4</th>\n",
       "      <td>1</td>\n",
       "      <td>No</td>\n",
       "      <td>15.2</td>\n",
       "      <td>105.0</td>\n",
       "      <td>Rural</td>\n",
       "      <td>FEMALE</td>\n",
       "      <td>56</td>\n",
       "      <td>48-59</td>\n",
       "      <td>Primary</td>\n",
       "      <td>Fourth</td>\n",
       "      <td>Yes</td>\n",
       "    </tr>\n",
       "  </tbody>\n",
       "</table>\n",
       "</div>"
      ],
      "text/plain": [
       "   Child participated in POLIO campaign August 2013  diarrhea_status  weight  \\\n",
       "0                                                 1               No    16.2   \n",
       "1                                                 1               No    13.5   \n",
       "2                                                 1               No    13.4   \n",
       "3                                                 1               No    15.0   \n",
       "4                                                 1               No    15.2   \n",
       "\n",
       "   height residence     Sex  age age_category   education wealth_index  \\\n",
       "0   102.4     Rural  FEMALE   45        36-47  Secondary+      Richest   \n",
       "1    92.5     Rural    MALE   45        36-47     Primary       Second   \n",
       "2    88.5     Rural    MALE   36        36-47     Primary       Fourth   \n",
       "3   101.3     Rural  FEMALE   51        48-59     Primary       Fourth   \n",
       "4   105.0     Rural  FEMALE   56        48-59     Primary       Fourth   \n",
       "\n",
       "  is_adult  \n",
       "0      Yes  \n",
       "1      Yes  \n",
       "2      Yes  \n",
       "3      Yes  \n",
       "4      Yes  "
      ]
     },
     "execution_count": 10,
     "metadata": {},
     "output_type": "execute_result"
    }
   ],
   "source": [
    "df['Sex']=df['Sex'].str.upper()# or lower\n",
    "df.head()"
   ]
  },
  {
   "cell_type": "code",
   "execution_count": 19,
   "id": "75f4a61b-6c72-4cd1-9ea2-000f9bcdc2cb",
   "metadata": {},
   "outputs": [
    {
     "ename": "NameError",
     "evalue": "name 'df1' is not defined",
     "output_type": "error",
     "traceback": [
      "\u001b[1;31m---------------------------------------------------------------------------\u001b[0m",
      "\u001b[1;31mNameError\u001b[0m                                 Traceback (most recent call last)",
      "Cell \u001b[1;32mIn[19], line 1\u001b[0m\n\u001b[1;32m----> 1\u001b[0m merged_df\u001b[38;5;241m=\u001b[39mpd\u001b[38;5;241m.\u001b[39mmerge(df1,df2,on\u001b[38;5;241m=\u001b[39m\u001b[38;5;124m'\u001b[39m\u001b[38;5;124mcommon_column\u001b[39m\u001b[38;5;124m'\u001b[39m)\n",
      "\u001b[1;31mNameError\u001b[0m: name 'df1' is not defined"
     ]
    }
   ],
   "source": [
    "merged_df=pd.merge(df1,df2,on='common_column')"
   ]
  },
  {
   "cell_type": "code",
   "execution_count": 12,
   "id": "de0af1a2-a3ef-4e8f-a1b2-da46c2404921",
   "metadata": {},
   "outputs": [
    {
     "data": {
      "text/plain": [
       "weight\n",
       "3.1     2\n",
       "3.2     2\n",
       "3.5     2\n",
       "3.8     1\n",
       "4.0     1\n",
       "       ..\n",
       "19.9    1\n",
       "20.1    1\n",
       "20.3    1\n",
       "20.5    1\n",
       "25.0    1\n",
       "Length: 154, dtype: int64"
      ]
     },
     "execution_count": 12,
     "metadata": {},
     "output_type": "execute_result"
    }
   ],
   "source": [
    "df.groupby('weight').size()"
   ]
  },
  {
   "cell_type": "code",
   "execution_count": 18,
   "id": "692d51ad-b218-4286-b03b-3543743f7018",
   "metadata": {},
   "outputs": [
    {
     "data": {
      "text/html": [
       "<div>\n",
       "<style scoped>\n",
       "    .dataframe tbody tr th:only-of-type {\n",
       "        vertical-align: middle;\n",
       "    }\n",
       "\n",
       "    .dataframe tbody tr th {\n",
       "        vertical-align: top;\n",
       "    }\n",
       "\n",
       "    .dataframe thead th {\n",
       "        text-align: right;\n",
       "    }\n",
       "</style>\n",
       "<table border=\"1\" class=\"dataframe\">\n",
       "  <thead>\n",
       "    <tr style=\"text-align: right;\">\n",
       "      <th></th>\n",
       "      <th>Child participated in POLIO campaign August 2013</th>\n",
       "      <th>diarrhea_status</th>\n",
       "      <th>weight</th>\n",
       "      <th>height</th>\n",
       "      <th>residence</th>\n",
       "      <th>Sex</th>\n",
       "      <th>age</th>\n",
       "      <th>age_category</th>\n",
       "      <th>education</th>\n",
       "      <th>wealth_index</th>\n",
       "      <th>is_adult</th>\n",
       "    </tr>\n",
       "  </thead>\n",
       "  <tbody>\n",
       "    <tr>\n",
       "      <th>627</th>\n",
       "      <td>1</td>\n",
       "      <td>No</td>\n",
       "      <td>25.0</td>\n",
       "      <td>98.5</td>\n",
       "      <td>Rural</td>\n",
       "      <td>MALE</td>\n",
       "      <td>37</td>\n",
       "      <td>36-47</td>\n",
       "      <td>Secondary+</td>\n",
       "      <td>Poorest</td>\n",
       "      <td>Yes</td>\n",
       "    </tr>\n",
       "    <tr>\n",
       "      <th>43</th>\n",
       "      <td>1</td>\n",
       "      <td>No</td>\n",
       "      <td>20.5</td>\n",
       "      <td>112.0</td>\n",
       "      <td>Rural</td>\n",
       "      <td>MALE</td>\n",
       "      <td>53</td>\n",
       "      <td>48-59</td>\n",
       "      <td>Primary</td>\n",
       "      <td>Richest</td>\n",
       "      <td>Yes</td>\n",
       "    </tr>\n",
       "    <tr>\n",
       "      <th>127</th>\n",
       "      <td>1</td>\n",
       "      <td>No</td>\n",
       "      <td>20.3</td>\n",
       "      <td>110.4</td>\n",
       "      <td>Rural</td>\n",
       "      <td>FEMALE</td>\n",
       "      <td>50</td>\n",
       "      <td>48-59</td>\n",
       "      <td>Primary</td>\n",
       "      <td>Middle</td>\n",
       "      <td>Yes</td>\n",
       "    </tr>\n",
       "    <tr>\n",
       "      <th>531</th>\n",
       "      <td>1</td>\n",
       "      <td>No</td>\n",
       "      <td>20.1</td>\n",
       "      <td>110.1</td>\n",
       "      <td>Rural</td>\n",
       "      <td>MALE</td>\n",
       "      <td>58</td>\n",
       "      <td>48-59</td>\n",
       "      <td>Secondary+</td>\n",
       "      <td>Second</td>\n",
       "      <td>Yes</td>\n",
       "    </tr>\n",
       "    <tr>\n",
       "      <th>757</th>\n",
       "      <td>1</td>\n",
       "      <td>No</td>\n",
       "      <td>19.9</td>\n",
       "      <td>117.9</td>\n",
       "      <td>Urban</td>\n",
       "      <td>FEMALE</td>\n",
       "      <td>58</td>\n",
       "      <td>48-59</td>\n",
       "      <td>Primary</td>\n",
       "      <td>Second</td>\n",
       "      <td>Yes</td>\n",
       "    </tr>\n",
       "  </tbody>\n",
       "</table>\n",
       "</div>"
      ],
      "text/plain": [
       "     Child participated in POLIO campaign August 2013  diarrhea_status  \\\n",
       "627                                                 1               No   \n",
       "43                                                  1               No   \n",
       "127                                                 1               No   \n",
       "531                                                 1               No   \n",
       "757                                                 1               No   \n",
       "\n",
       "     weight  height residence     Sex  age age_category   education  \\\n",
       "627    25.0    98.5     Rural    MALE   37        36-47  Secondary+   \n",
       "43     20.5   112.0     Rural    MALE   53        48-59     Primary   \n",
       "127    20.3   110.4     Rural  FEMALE   50        48-59     Primary   \n",
       "531    20.1   110.1     Rural    MALE   58        48-59  Secondary+   \n",
       "757    19.9   117.9     Urban  FEMALE   58        48-59     Primary   \n",
       "\n",
       "    wealth_index is_adult  \n",
       "627      Poorest      Yes  \n",
       "43       Richest      Yes  \n",
       "127       Middle      Yes  \n",
       "531       Second      Yes  \n",
       "757       Second      Yes  "
      ]
     },
     "execution_count": 18,
     "metadata": {},
     "output_type": "execute_result"
    }
   ],
   "source": [
    "sorting_df=df.sort_values(by='weight',ascending=False)\n",
    "sorting_df.head()"
   ]
  },
  {
   "cell_type": "code",
   "execution_count": 8,
   "id": "1cf51d3e-cb0d-455c-a2a0-b55ec97f935e",
   "metadata": {},
   "outputs": [
    {
     "name": "stdout",
     "output_type": "stream",
     "text": [
      "Requirement already satisfied: matplotlib in c:\\users\\admin\\anaconda3\\lib\\site-packages (3.8.0)\n",
      "Requirement already satisfied: contourpy>=1.0.1 in c:\\users\\admin\\anaconda3\\lib\\site-packages (from matplotlib) (1.2.0)\n",
      "Requirement already satisfied: cycler>=0.10 in c:\\users\\admin\\anaconda3\\lib\\site-packages (from matplotlib) (0.11.0)\n",
      "Requirement already satisfied: fonttools>=4.22.0 in c:\\users\\admin\\anaconda3\\lib\\site-packages (from matplotlib) (4.25.0)\n",
      "Requirement already satisfied: kiwisolver>=1.0.1 in c:\\users\\admin\\anaconda3\\lib\\site-packages (from matplotlib) (1.4.4)\n",
      "Requirement already satisfied: numpy<2,>=1.21 in c:\\users\\admin\\anaconda3\\lib\\site-packages (from matplotlib) (1.26.4)\n",
      "Requirement already satisfied: packaging>=20.0 in c:\\users\\admin\\anaconda3\\lib\\site-packages (from matplotlib) (23.1)\n",
      "Requirement already satisfied: pillow>=6.2.0 in c:\\users\\admin\\anaconda3\\lib\\site-packages (from matplotlib) (10.2.0)\n",
      "Requirement already satisfied: pyparsing>=2.3.1 in c:\\users\\admin\\anaconda3\\lib\\site-packages (from matplotlib) (3.0.9)\n",
      "Requirement already satisfied: python-dateutil>=2.7 in c:\\users\\admin\\anaconda3\\lib\\site-packages (from matplotlib) (2.8.2)\n",
      "Requirement already satisfied: six>=1.5 in c:\\users\\admin\\anaconda3\\lib\\site-packages (from python-dateutil>=2.7->matplotlib) (1.16.0)\n"
     ]
    }
   ],
   "source": [
    "\n",
    "!pip install matplotlib\n"
   ]
  },
  {
   "cell_type": "code",
   "execution_count": 20,
   "id": "77988c2a-c67e-438a-8793-f2ca35a0d18f",
   "metadata": {},
   "outputs": [
    {
     "name": "stdout",
     "output_type": "stream",
     "text": [
      "Requirement already satisfied: matplotlib in c:\\users\\admin\\anaconda3\\lib\\site-packages (3.8.0)\n",
      "Requirement already satisfied: contourpy>=1.0.1 in c:\\users\\admin\\anaconda3\\lib\\site-packages (from matplotlib) (1.2.0)\n",
      "Requirement already satisfied: cycler>=0.10 in c:\\users\\admin\\anaconda3\\lib\\site-packages (from matplotlib) (0.11.0)\n",
      "Requirement already satisfied: fonttools>=4.22.0 in c:\\users\\admin\\anaconda3\\lib\\site-packages (from matplotlib) (4.25.0)\n",
      "Requirement already satisfied: kiwisolver>=1.0.1 in c:\\users\\admin\\anaconda3\\lib\\site-packages (from matplotlib) (1.4.4)\n",
      "Requirement already satisfied: numpy<2,>=1.21 in c:\\users\\admin\\anaconda3\\lib\\site-packages (from matplotlib) (1.26.4)\n",
      "Requirement already satisfied: packaging>=20.0 in c:\\users\\admin\\anaconda3\\lib\\site-packages (from matplotlib) (23.1)\n",
      "Requirement already satisfied: pillow>=6.2.0 in c:\\users\\admin\\anaconda3\\lib\\site-packages (from matplotlib) (10.2.0)\n",
      "Requirement already satisfied: pyparsing>=2.3.1 in c:\\users\\admin\\anaconda3\\lib\\site-packages (from matplotlib) (3.0.9)\n",
      "Requirement already satisfied: python-dateutil>=2.7 in c:\\users\\admin\\anaconda3\\lib\\site-packages (from matplotlib) (2.8.2)\n",
      "Requirement already satisfied: six>=1.5 in c:\\users\\admin\\anaconda3\\lib\\site-packages (from python-dateutil>=2.7->matplotlib) (1.16.0)\n"
     ]
    }
   ],
   "source": [
    "import pandas as pd\n",
    "import matplotlib.pyplot as pit\n",
    "!pip install matplotlib"
   ]
  },
  {
   "cell_type": "code",
   "execution_count": 22,
   "id": "7d332997-90dc-4eab-8a8c-cd55ecca7667",
   "metadata": {},
   "outputs": [
    {
     "data": {
      "text/html": [
       "<div>\n",
       "<style scoped>\n",
       "    .dataframe tbody tr th:only-of-type {\n",
       "        vertical-align: middle;\n",
       "    }\n",
       "\n",
       "    .dataframe tbody tr th {\n",
       "        vertical-align: top;\n",
       "    }\n",
       "\n",
       "    .dataframe thead th {\n",
       "        text-align: right;\n",
       "    }\n",
       "</style>\n",
       "<table border=\"1\" class=\"dataframe\">\n",
       "  <thead>\n",
       "    <tr style=\"text-align: right;\">\n",
       "      <th></th>\n",
       "      <th>Child participated in POLIO campaign August 2013</th>\n",
       "      <th>diarrhea_status</th>\n",
       "      <th>weight</th>\n",
       "      <th>height</th>\n",
       "      <th>residence</th>\n",
       "      <th>Sex</th>\n",
       "      <th>age</th>\n",
       "      <th>age_category</th>\n",
       "      <th>education</th>\n",
       "      <th>wealth_index</th>\n",
       "      <th>is_adult</th>\n",
       "    </tr>\n",
       "  </thead>\n",
       "  <tbody>\n",
       "    <tr>\n",
       "      <th>0</th>\n",
       "      <td>1</td>\n",
       "      <td>No</td>\n",
       "      <td>16.2</td>\n",
       "      <td>102.4</td>\n",
       "      <td>Rural</td>\n",
       "      <td>FEMALE</td>\n",
       "      <td>45</td>\n",
       "      <td>36-47</td>\n",
       "      <td>Secondary+</td>\n",
       "      <td>Richest</td>\n",
       "      <td>Yes</td>\n",
       "    </tr>\n",
       "    <tr>\n",
       "      <th>1</th>\n",
       "      <td>1</td>\n",
       "      <td>No</td>\n",
       "      <td>13.5</td>\n",
       "      <td>92.5</td>\n",
       "      <td>Rural</td>\n",
       "      <td>MALE</td>\n",
       "      <td>45</td>\n",
       "      <td>36-47</td>\n",
       "      <td>Primary</td>\n",
       "      <td>Second</td>\n",
       "      <td>Yes</td>\n",
       "    </tr>\n",
       "    <tr>\n",
       "      <th>2</th>\n",
       "      <td>1</td>\n",
       "      <td>No</td>\n",
       "      <td>13.4</td>\n",
       "      <td>88.5</td>\n",
       "      <td>Rural</td>\n",
       "      <td>MALE</td>\n",
       "      <td>36</td>\n",
       "      <td>36-47</td>\n",
       "      <td>Primary</td>\n",
       "      <td>Fourth</td>\n",
       "      <td>Yes</td>\n",
       "    </tr>\n",
       "    <tr>\n",
       "      <th>3</th>\n",
       "      <td>1</td>\n",
       "      <td>No</td>\n",
       "      <td>15.0</td>\n",
       "      <td>101.3</td>\n",
       "      <td>Rural</td>\n",
       "      <td>FEMALE</td>\n",
       "      <td>51</td>\n",
       "      <td>48-59</td>\n",
       "      <td>Primary</td>\n",
       "      <td>Fourth</td>\n",
       "      <td>Yes</td>\n",
       "    </tr>\n",
       "    <tr>\n",
       "      <th>4</th>\n",
       "      <td>1</td>\n",
       "      <td>No</td>\n",
       "      <td>15.2</td>\n",
       "      <td>105.0</td>\n",
       "      <td>Rural</td>\n",
       "      <td>FEMALE</td>\n",
       "      <td>56</td>\n",
       "      <td>48-59</td>\n",
       "      <td>Primary</td>\n",
       "      <td>Fourth</td>\n",
       "      <td>Yes</td>\n",
       "    </tr>\n",
       "  </tbody>\n",
       "</table>\n",
       "</div>"
      ],
      "text/plain": [
       "   Child participated in POLIO campaign August 2013  diarrhea_status  weight  \\\n",
       "0                                                 1               No    16.2   \n",
       "1                                                 1               No    13.5   \n",
       "2                                                 1               No    13.4   \n",
       "3                                                 1               No    15.0   \n",
       "4                                                 1               No    15.2   \n",
       "\n",
       "   height residence     Sex  age age_category   education wealth_index  \\\n",
       "0   102.4     Rural  FEMALE   45        36-47  Secondary+      Richest   \n",
       "1    92.5     Rural    MALE   45        36-47     Primary       Second   \n",
       "2    88.5     Rural    MALE   36        36-47     Primary       Fourth   \n",
       "3   101.3     Rural  FEMALE   51        48-59     Primary       Fourth   \n",
       "4   105.0     Rural  FEMALE   56        48-59     Primary       Fourth   \n",
       "\n",
       "  is_adult  \n",
       "0      Yes  \n",
       "1      Yes  \n",
       "2      Yes  \n",
       "3      Yes  \n",
       "4      Yes  "
      ]
     },
     "execution_count": 22,
     "metadata": {},
     "output_type": "execute_result"
    }
   ],
   "source": [
    "Data=pd.read_csv ('childhealthdata.csv')\n",
    "df.head()"
   ]
  },
  {
   "cell_type": "code",
   "execution_count": 30,
   "id": "7d566d1c-8b8c-4412-b77b-11a6da703777",
   "metadata": {},
   "outputs": [
    {
     "data": {
      "text/plain": [
       "(799, 10)"
      ]
     },
     "execution_count": 30,
     "metadata": {},
     "output_type": "execute_result"
    }
   ],
   "source": [
    "Data.shape"
   ]
  },
  {
   "cell_type": "code",
   "execution_count": 32,
   "id": "0c818ab8-a835-4173-a161-9c154baf4aee",
   "metadata": {},
   "outputs": [
    {
     "data": {
      "text/plain": [
       "<bound method NDFrame.tail of      Child participated in POLIO campaign August 2013  diarrhea_status  \\\n",
       "0                                                   1               No   \n",
       "1                                                   1               No   \n",
       "2                                                   1               No   \n",
       "3                                                   1               No   \n",
       "4                                                   1               No   \n",
       "..                                                ...              ...   \n",
       "794                                                 1               No   \n",
       "795                                                 2               No   \n",
       "796                                                 1               No   \n",
       "797                                                 1               No   \n",
       "798                                                 1               No   \n",
       "\n",
       "     weight  height residence     Sex  age age_category   education  \\\n",
       "0      16.2   102.4     Rural  Female   45        36-47  Secondary+   \n",
       "1      13.5    92.5     Rural    Male   45        36-47     Primary   \n",
       "2      13.4    88.5     Rural    Male   36        36-47     Primary   \n",
       "3      15.0   101.3     Rural  Female   51        48-59     Primary   \n",
       "4      15.2   105.0     Rural  Female   56        48-59     Primary   \n",
       "..      ...     ...       ...     ...  ...          ...         ...   \n",
       "794     8.3    67.0     Urban  Female    7         6-11     Primary   \n",
       "795     3.5    45.0     Urban    Male    0          0-5  Secondary+   \n",
       "796    15.1    86.0     Urban  Female   56        48-59     Primary   \n",
       "797    10.7    71.2     Urban  Female   18        12-23     Primary   \n",
       "798    10.3    73.0     Urban  Female    7         6-11     Primary   \n",
       "\n",
       "    wealth_index  \n",
       "0        Richest  \n",
       "1         Second  \n",
       "2         Fourth  \n",
       "3         Fourth  \n",
       "4         Fourth  \n",
       "..           ...  \n",
       "794       Fourth  \n",
       "795       Fourth  \n",
       "796       Fourth  \n",
       "797       Fourth  \n",
       "798       Middle  \n",
       "\n",
       "[799 rows x 10 columns]>"
      ]
     },
     "execution_count": 32,
     "metadata": {},
     "output_type": "execute_result"
    }
   ],
   "source": [
    "Data.tail"
   ]
  },
  {
   "cell_type": "code",
   "execution_count": 33,
   "id": "9d52560f-5b0b-4b1b-b4e3-d82140eaf75e",
   "metadata": {},
   "outputs": [
    {
     "data": {
      "text/plain": [
       "<bound method NDFrame.head of      Child participated in POLIO campaign August 2013  diarrhea_status  \\\n",
       "0                                                   1               No   \n",
       "1                                                   1               No   \n",
       "2                                                   1               No   \n",
       "3                                                   1               No   \n",
       "4                                                   1               No   \n",
       "..                                                ...              ...   \n",
       "794                                                 1               No   \n",
       "795                                                 2               No   \n",
       "796                                                 1               No   \n",
       "797                                                 1               No   \n",
       "798                                                 1               No   \n",
       "\n",
       "     weight  height residence     Sex  age age_category   education  \\\n",
       "0      16.2   102.4     Rural  Female   45        36-47  Secondary+   \n",
       "1      13.5    92.5     Rural    Male   45        36-47     Primary   \n",
       "2      13.4    88.5     Rural    Male   36        36-47     Primary   \n",
       "3      15.0   101.3     Rural  Female   51        48-59     Primary   \n",
       "4      15.2   105.0     Rural  Female   56        48-59     Primary   \n",
       "..      ...     ...       ...     ...  ...          ...         ...   \n",
       "794     8.3    67.0     Urban  Female    7         6-11     Primary   \n",
       "795     3.5    45.0     Urban    Male    0          0-5  Secondary+   \n",
       "796    15.1    86.0     Urban  Female   56        48-59     Primary   \n",
       "797    10.7    71.2     Urban  Female   18        12-23     Primary   \n",
       "798    10.3    73.0     Urban  Female    7         6-11     Primary   \n",
       "\n",
       "    wealth_index  \n",
       "0        Richest  \n",
       "1         Second  \n",
       "2         Fourth  \n",
       "3         Fourth  \n",
       "4         Fourth  \n",
       "..           ...  \n",
       "794       Fourth  \n",
       "795       Fourth  \n",
       "796       Fourth  \n",
       "797       Fourth  \n",
       "798       Middle  \n",
       "\n",
       "[799 rows x 10 columns]>"
      ]
     },
     "execution_count": 33,
     "metadata": {},
     "output_type": "execute_result"
    }
   ],
   "source": [
    "Data.head"
   ]
  },
  {
   "cell_type": "code",
   "execution_count": 34,
   "id": "48621c8a-e628-43e1-9108-aeedde07e7dd",
   "metadata": {},
   "outputs": [
    {
     "data": {
      "text/plain": [
       "Index(['Child participated in POLIO campaign August 2013', ' diarrhea_status',\n",
       "       'weight', 'height', 'residence', 'Sex', 'age', 'age_category',\n",
       "       'education', 'wealth_index'],\n",
       "      dtype='object')"
      ]
     },
     "execution_count": 34,
     "metadata": {},
     "output_type": "execute_result"
    }
   ],
   "source": [
    "Data.columns"
   ]
  },
  {
   "cell_type": "code",
   "execution_count": 23,
   "id": "5e37db04-1804-4310-9d93-be0400e232f1",
   "metadata": {},
   "outputs": [
    {
     "data": {
      "image/png": "[encoded data removed]",
      "text/plain": [
       "<Figure size 800x600 with 1 Axes>"
      ]
     },
     "metadata": {},
     "output_type": "display_data"
    }
   ],
   "source": [
    "import matplotlib.pyplot as plt\n",
    "gender_counts=Data['Sex'].value_counts()\n",
    "plt.figure(figsize=(8,6))\n",
    "plt.pie(gender_counts,labels=gender_counts.index,\n",
    "        autopct='%1.1f%%',startangle=140)\n",
    "plt.title('Distribution by gender')\n",
    "plt.axis('equal')\n",
    "plt.show()"
   ]
  },
  {
   "cell_type": "code",
   "execution_count": 36,
   "id": "88ded3c2-4b13-41f8-a5e9-17c1db9005c7",
   "metadata": {},
   "outputs": [
    {
     "data": {
      "image/png": "[encoded data removed]",
      "text/plain": [
       "<Figure size 1000x600 with 1 Axes>"
      ]
     },
     "metadata": {},
     "output_type": "display_data"
    }
   ],
   "source": [
    "education_counts=Data['education'].value_counts()\n",
    "plt.figure(figsize=(10,6))\n",
    "plt.bar(education_counts.index,education_counts.values,  color='skyblue')\n",
    "plt.xlabel('education')\n",
    "plt.ylabel('count')\n",
    "plt.title('distribution by education')\n",
    "plt.xticks(rotation=45)#Rotate labels if needed for better readability\n",
    "plt.show()"
   ]
  },
  {
   "cell_type": "code",
   "execution_count": 24,
   "id": "80c5214c-86bd-41b3-b4a3-6a90160117b0",
   "metadata": {
    "scrolled": true
   },
   "outputs": [
    {
     "data": {
      "image/png": "[encoded data removed]",
      "text/plain": [
       "<Figure size 800x600 with 1 Axes>"
      ]
     },
     "metadata": {},
     "output_type": "display_data"
    }
   ],
   "source": [
    "plt.figure(figsize=(8,6))\n",
    "plt.hist(Data['age'],bins=10,color='skyblue',edgecolor='black')\n",
    "plt.title('distribution of age')\n",
    "plt.xlabel('age')\n",
    "plt.ylabel('frequency')\n",
    "plt.show()"
   ]
  },
  {
   "cell_type": "code",
   "execution_count": 25,
   "id": "88737631-3666-4aac-9783-c43f147dd8e5",
   "metadata": {},
   "outputs": [
    {
     "ename": "ValueError",
     "evalue": "Unrecognized marker style 'O'",
     "output_type": "error",
     "traceback": [
      "\u001b[1;31m---------------------------------------------------------------------------\u001b[0m",
      "\u001b[1;31mValueError\u001b[0m                                Traceback (most recent call last)",
      "File \u001b[1;32m~\\anaconda3\\Lib\\site-packages\\matplotlib\\markers.py:335\u001b[0m, in \u001b[0;36mMarkerStyle._set_marker\u001b[1;34m(self, marker)\u001b[0m\n\u001b[0;32m    334\u001b[0m \u001b[38;5;28;01mtry\u001b[39;00m:\n\u001b[1;32m--> 335\u001b[0m     Path(marker)\n\u001b[0;32m    336\u001b[0m     \u001b[38;5;28mself\u001b[39m\u001b[38;5;241m.\u001b[39m_marker_function \u001b[38;5;241m=\u001b[39m \u001b[38;5;28mself\u001b[39m\u001b[38;5;241m.\u001b[39m_set_vertices\n",
      "File \u001b[1;32m~\\anaconda3\\Lib\\site-packages\\matplotlib\\path.py:129\u001b[0m, in \u001b[0;36mPath.__init__\u001b[1;34m(self, vertices, codes, _interpolation_steps, closed, readonly)\u001b[0m\n\u001b[0;32m    101\u001b[0m \u001b[38;5;250m\u001b[39m\u001b[38;5;124;03m\"\"\"\u001b[39;00m\n\u001b[0;32m    102\u001b[0m \u001b[38;5;124;03mCreate a new path with the given vertices and codes.\u001b[39;00m\n\u001b[0;32m    103\u001b[0m \n\u001b[1;32m   (...)\u001b[0m\n\u001b[0;32m    127\u001b[0m \u001b[38;5;124;03m    and codes as read-only arrays.\u001b[39;00m\n\u001b[0;32m    128\u001b[0m \u001b[38;5;124;03m\"\"\"\u001b[39;00m\n\u001b[1;32m--> 129\u001b[0m vertices \u001b[38;5;241m=\u001b[39m _to_unmasked_float_array(vertices)\n\u001b[0;32m    130\u001b[0m _api\u001b[38;5;241m.\u001b[39mcheck_shape((\u001b[38;5;28;01mNone\u001b[39;00m, \u001b[38;5;241m2\u001b[39m), vertices\u001b[38;5;241m=\u001b[39mvertices)\n",
      "File \u001b[1;32m~\\anaconda3\\Lib\\site-packages\\matplotlib\\cbook.py:1345\u001b[0m, in \u001b[0;36m_to_unmasked_float_array\u001b[1;34m(x)\u001b[0m\n\u001b[0;32m   1344\u001b[0m \u001b[38;5;28;01melse\u001b[39;00m:\n\u001b[1;32m-> 1345\u001b[0m     \u001b[38;5;28;01mreturn\u001b[39;00m np\u001b[38;5;241m.\u001b[39masarray(x, \u001b[38;5;28mfloat\u001b[39m)\n",
      "\u001b[1;31mValueError\u001b[0m: could not convert string to float: 'O'",
      "\nThe above exception was the direct cause of the following exception:\n",
      "\u001b[1;31mValueError\u001b[0m                                Traceback (most recent call last)",
      "Cell \u001b[1;32mIn[25], line 7\u001b[0m\n\u001b[0;32m      5\u001b[0m df\u001b[38;5;241m=\u001b[39mpd\u001b[38;5;241m.\u001b[39mDataFrame(data)\n\u001b[0;32m      6\u001b[0m plt\u001b[38;5;241m.\u001b[39mfigure(figsize\u001b[38;5;241m=\u001b[39m(\u001b[38;5;241m10\u001b[39m,\u001b[38;5;241m6\u001b[39m))\n\u001b[1;32m----> 7\u001b[0m plt\u001b[38;5;241m.\u001b[39mplot(df[\u001b[38;5;124m'\u001b[39m\u001b[38;5;124mMonth\u001b[39m\u001b[38;5;124m'\u001b[39m],df[\u001b[38;5;124m'\u001b[39m\u001b[38;5;124mreported_cases\u001b[39m\u001b[38;5;124m'\u001b[39m],marker\u001b[38;5;241m=\u001b[39m\u001b[38;5;124m'\u001b[39m\u001b[38;5;124mO\u001b[39m\u001b[38;5;124m'\u001b[39m)\n\u001b[0;32m      8\u001b[0m plt\u001b[38;5;241m.\u001b[39mxlabel(\u001b[38;5;124m'\u001b[39m\u001b[38;5;124mMonth\u001b[39m\u001b[38;5;124m'\u001b[39m)\n\u001b[0;32m      9\u001b[0m plt\u001b[38;5;241m.\u001b[39mylabel(\u001b[38;5;124m'\u001b[39m\u001b[38;5;124mreported cases\u001b[39m\u001b[38;5;124m'\u001b[39m)\n",
      "File \u001b[1;32m~\\anaconda3\\Lib\\site-packages\\matplotlib\\pyplot.py:3578\u001b[0m, in \u001b[0;36mplot\u001b[1;34m(scalex, scaley, data, *args, **kwargs)\u001b[0m\n\u001b[0;32m   3570\u001b[0m \u001b[38;5;129m@_copy_docstring_and_deprecators\u001b[39m(Axes\u001b[38;5;241m.\u001b[39mplot)\n\u001b[0;32m   3571\u001b[0m \u001b[38;5;28;01mdef\u001b[39;00m \u001b[38;5;21mplot\u001b[39m(\n\u001b[0;32m   3572\u001b[0m     \u001b[38;5;241m*\u001b[39margs: \u001b[38;5;28mfloat\u001b[39m \u001b[38;5;241m|\u001b[39m ArrayLike \u001b[38;5;241m|\u001b[39m \u001b[38;5;28mstr\u001b[39m,\n\u001b[1;32m   (...)\u001b[0m\n\u001b[0;32m   3576\u001b[0m     \u001b[38;5;241m*\u001b[39m\u001b[38;5;241m*\u001b[39mkwargs,\n\u001b[0;32m   3577\u001b[0m ) \u001b[38;5;241m-\u001b[39m\u001b[38;5;241m>\u001b[39m \u001b[38;5;28mlist\u001b[39m[Line2D]:\n\u001b[1;32m-> 3578\u001b[0m     \u001b[38;5;28;01mreturn\u001b[39;00m gca()\u001b[38;5;241m.\u001b[39mplot(\n\u001b[0;32m   3579\u001b[0m         \u001b[38;5;241m*\u001b[39margs,\n\u001b[0;32m   3580\u001b[0m         scalex\u001b[38;5;241m=\u001b[39mscalex,\n\u001b[0;32m   3581\u001b[0m         scaley\u001b[38;5;241m=\u001b[39mscaley,\n\u001b[0;32m   3582\u001b[0m         \u001b[38;5;241m*\u001b[39m\u001b[38;5;241m*\u001b[39m({\u001b[38;5;124m\"\u001b[39m\u001b[38;5;124mdata\u001b[39m\u001b[38;5;124m\"\u001b[39m: data} \u001b[38;5;28;01mif\u001b[39;00m data \u001b[38;5;129;01mis\u001b[39;00m \u001b[38;5;129;01mnot\u001b[39;00m \u001b[38;5;28;01mNone\u001b[39;00m \u001b[38;5;28;01melse\u001b[39;00m {}),\n\u001b[0;32m   3583\u001b[0m         \u001b[38;5;241m*\u001b[39m\u001b[38;5;241m*\u001b[39mkwargs,\n\u001b[0;32m   3584\u001b[0m     )\n",
      "File \u001b[1;32m~\\anaconda3\\Lib\\site-packages\\matplotlib\\axes\\_axes.py:1721\u001b[0m, in \u001b[0;36mAxes.plot\u001b[1;34m(self, scalex, scaley, data, *args, **kwargs)\u001b[0m\n\u001b[0;32m   1478\u001b[0m \u001b[38;5;250m\u001b[39m\u001b[38;5;124;03m\"\"\"\u001b[39;00m\n\u001b[0;32m   1479\u001b[0m \u001b[38;5;124;03mPlot y versus x as lines and/or markers.\u001b[39;00m\n\u001b[0;32m   1480\u001b[0m \n\u001b[1;32m   (...)\u001b[0m\n\u001b[0;32m   1718\u001b[0m \u001b[38;5;124;03m(``'green'``) or hex strings (``'#008000'``).\u001b[39;00m\n\u001b[0;32m   1719\u001b[0m \u001b[38;5;124;03m\"\"\"\u001b[39;00m\n\u001b[0;32m   1720\u001b[0m kwargs \u001b[38;5;241m=\u001b[39m cbook\u001b[38;5;241m.\u001b[39mnormalize_kwargs(kwargs, mlines\u001b[38;5;241m.\u001b[39mLine2D)\n\u001b[1;32m-> 1721\u001b[0m lines \u001b[38;5;241m=\u001b[39m [\u001b[38;5;241m*\u001b[39m\u001b[38;5;28mself\u001b[39m\u001b[38;5;241m.\u001b[39m_get_lines(\u001b[38;5;28mself\u001b[39m, \u001b[38;5;241m*\u001b[39margs, data\u001b[38;5;241m=\u001b[39mdata, \u001b[38;5;241m*\u001b[39m\u001b[38;5;241m*\u001b[39mkwargs)]\n\u001b[0;32m   1722\u001b[0m \u001b[38;5;28;01mfor\u001b[39;00m line \u001b[38;5;129;01min\u001b[39;00m lines:\n\u001b[0;32m   1723\u001b[0m     \u001b[38;5;28mself\u001b[39m\u001b[38;5;241m.\u001b[39madd_line(line)\n",
      "File \u001b[1;32m~\\anaconda3\\Lib\\site-packages\\matplotlib\\axes\\_base.py:303\u001b[0m, in \u001b[0;36m_process_plot_var_args.__call__\u001b[1;34m(self, axes, data, *args, **kwargs)\u001b[0m\n\u001b[0;32m    301\u001b[0m     this \u001b[38;5;241m+\u001b[39m\u001b[38;5;241m=\u001b[39m args[\u001b[38;5;241m0\u001b[39m],\n\u001b[0;32m    302\u001b[0m     args \u001b[38;5;241m=\u001b[39m args[\u001b[38;5;241m1\u001b[39m:]\n\u001b[1;32m--> 303\u001b[0m \u001b[38;5;28;01myield from\u001b[39;00m \u001b[38;5;28mself\u001b[39m\u001b[38;5;241m.\u001b[39m_plot_args(\n\u001b[0;32m    304\u001b[0m     axes, this, kwargs, ambiguous_fmt_datakey\u001b[38;5;241m=\u001b[39mambiguous_fmt_datakey)\n",
      "File \u001b[1;32m~\\anaconda3\\Lib\\site-packages\\matplotlib\\axes\\_base.py:539\u001b[0m, in \u001b[0;36m_process_plot_var_args._plot_args\u001b[1;34m(self, axes, tup, kwargs, return_kwargs, ambiguous_fmt_datakey)\u001b[0m\n\u001b[0;32m    537\u001b[0m     \u001b[38;5;28;01mreturn\u001b[39;00m \u001b[38;5;28mlist\u001b[39m(result)\n\u001b[0;32m    538\u001b[0m \u001b[38;5;28;01melse\u001b[39;00m:\n\u001b[1;32m--> 539\u001b[0m     \u001b[38;5;28;01mreturn\u001b[39;00m [l[\u001b[38;5;241m0\u001b[39m] \u001b[38;5;28;01mfor\u001b[39;00m l \u001b[38;5;129;01min\u001b[39;00m result]\n",
      "File \u001b[1;32m~\\anaconda3\\Lib\\site-packages\\matplotlib\\axes\\_base.py:539\u001b[0m, in \u001b[0;36m<listcomp>\u001b[1;34m(.0)\u001b[0m\n\u001b[0;32m    537\u001b[0m     \u001b[38;5;28;01mreturn\u001b[39;00m \u001b[38;5;28mlist\u001b[39m(result)\n\u001b[0;32m    538\u001b[0m \u001b[38;5;28;01melse\u001b[39;00m:\n\u001b[1;32m--> 539\u001b[0m     \u001b[38;5;28;01mreturn\u001b[39;00m [l[\u001b[38;5;241m0\u001b[39m] \u001b[38;5;28;01mfor\u001b[39;00m l \u001b[38;5;129;01min\u001b[39;00m result]\n",
      "File \u001b[1;32m~\\anaconda3\\Lib\\site-packages\\matplotlib\\axes\\_base.py:532\u001b[0m, in \u001b[0;36m<genexpr>\u001b[1;34m(.0)\u001b[0m\n\u001b[0;32m    529\u001b[0m \u001b[38;5;28;01melse\u001b[39;00m:\n\u001b[0;32m    530\u001b[0m     labels \u001b[38;5;241m=\u001b[39m [label] \u001b[38;5;241m*\u001b[39m n_datasets\n\u001b[1;32m--> 532\u001b[0m result \u001b[38;5;241m=\u001b[39m (make_artist(axes, x[:, j \u001b[38;5;241m%\u001b[39m ncx], y[:, j \u001b[38;5;241m%\u001b[39m ncy], kw,\n\u001b[0;32m    533\u001b[0m                       {\u001b[38;5;241m*\u001b[39m\u001b[38;5;241m*\u001b[39mkwargs, \u001b[38;5;124m'\u001b[39m\u001b[38;5;124mlabel\u001b[39m\u001b[38;5;124m'\u001b[39m: label})\n\u001b[0;32m    534\u001b[0m           \u001b[38;5;28;01mfor\u001b[39;00m j, label \u001b[38;5;129;01min\u001b[39;00m \u001b[38;5;28menumerate\u001b[39m(labels))\n\u001b[0;32m    536\u001b[0m \u001b[38;5;28;01mif\u001b[39;00m return_kwargs:\n\u001b[0;32m    537\u001b[0m     \u001b[38;5;28;01mreturn\u001b[39;00m \u001b[38;5;28mlist\u001b[39m(result)\n",
      "File \u001b[1;32m~\\anaconda3\\Lib\\site-packages\\matplotlib\\axes\\_base.py:346\u001b[0m, in \u001b[0;36m_process_plot_var_args._makeline\u001b[1;34m(self, axes, x, y, kw, kwargs)\u001b[0m\n\u001b[0;32m    344\u001b[0m default_dict \u001b[38;5;241m=\u001b[39m \u001b[38;5;28mself\u001b[39m\u001b[38;5;241m.\u001b[39m_getdefaults(\u001b[38;5;28mset\u001b[39m(), kw)\n\u001b[0;32m    345\u001b[0m \u001b[38;5;28mself\u001b[39m\u001b[38;5;241m.\u001b[39m_setdefaults(default_dict, kw)\n\u001b[1;32m--> 346\u001b[0m seg \u001b[38;5;241m=\u001b[39m mlines\u001b[38;5;241m.\u001b[39mLine2D(x, y, \u001b[38;5;241m*\u001b[39m\u001b[38;5;241m*\u001b[39mkw)\n\u001b[0;32m    347\u001b[0m \u001b[38;5;28;01mreturn\u001b[39;00m seg, kw\n",
      "File \u001b[1;32m~\\anaconda3\\Lib\\site-packages\\matplotlib\\lines.py:380\u001b[0m, in \u001b[0;36mLine2D.__init__\u001b[1;34m(self, xdata, ydata, linewidth, linestyle, color, gapcolor, marker, markersize, markeredgewidth, markeredgecolor, markerfacecolor, markerfacecoloralt, fillstyle, antialiased, dash_capstyle, solid_capstyle, dash_joinstyle, solid_joinstyle, pickradius, drawstyle, markevery, **kwargs)\u001b[0m\n\u001b[0;32m    378\u001b[0m     marker \u001b[38;5;241m=\u001b[39m \u001b[38;5;124m'\u001b[39m\u001b[38;5;124mnone\u001b[39m\u001b[38;5;124m'\u001b[39m  \u001b[38;5;66;03m# Default.\u001b[39;00m\n\u001b[0;32m    379\u001b[0m \u001b[38;5;28;01mif\u001b[39;00m \u001b[38;5;129;01mnot\u001b[39;00m \u001b[38;5;28misinstance\u001b[39m(marker, MarkerStyle):\n\u001b[1;32m--> 380\u001b[0m     \u001b[38;5;28mself\u001b[39m\u001b[38;5;241m.\u001b[39m_marker \u001b[38;5;241m=\u001b[39m MarkerStyle(marker, fillstyle)\n\u001b[0;32m    381\u001b[0m \u001b[38;5;28;01melse\u001b[39;00m:\n\u001b[0;32m    382\u001b[0m     \u001b[38;5;28mself\u001b[39m\u001b[38;5;241m.\u001b[39m_marker \u001b[38;5;241m=\u001b[39m marker\n",
      "File \u001b[1;32m~\\anaconda3\\Lib\\site-packages\\matplotlib\\markers.py:255\u001b[0m, in \u001b[0;36mMarkerStyle.__init__\u001b[1;34m(self, marker, fillstyle, transform, capstyle, joinstyle)\u001b[0m\n\u001b[0;32m    253\u001b[0m \u001b[38;5;28mself\u001b[39m\u001b[38;5;241m.\u001b[39m_user_joinstyle \u001b[38;5;241m=\u001b[39m JoinStyle(joinstyle) \u001b[38;5;28;01mif\u001b[39;00m joinstyle \u001b[38;5;129;01mis\u001b[39;00m \u001b[38;5;129;01mnot\u001b[39;00m \u001b[38;5;28;01mNone\u001b[39;00m \u001b[38;5;28;01melse\u001b[39;00m \u001b[38;5;28;01mNone\u001b[39;00m\n\u001b[0;32m    254\u001b[0m \u001b[38;5;28mself\u001b[39m\u001b[38;5;241m.\u001b[39m_set_fillstyle(fillstyle)\n\u001b[1;32m--> 255\u001b[0m \u001b[38;5;28mself\u001b[39m\u001b[38;5;241m.\u001b[39m_set_marker(marker)\n",
      "File \u001b[1;32m~\\anaconda3\\Lib\\site-packages\\matplotlib\\markers.py:338\u001b[0m, in \u001b[0;36mMarkerStyle._set_marker\u001b[1;34m(self, marker)\u001b[0m\n\u001b[0;32m    336\u001b[0m         \u001b[38;5;28mself\u001b[39m\u001b[38;5;241m.\u001b[39m_marker_function \u001b[38;5;241m=\u001b[39m \u001b[38;5;28mself\u001b[39m\u001b[38;5;241m.\u001b[39m_set_vertices\n\u001b[0;32m    337\u001b[0m     \u001b[38;5;28;01mexcept\u001b[39;00m \u001b[38;5;167;01mValueError\u001b[39;00m \u001b[38;5;28;01mas\u001b[39;00m err:\n\u001b[1;32m--> 338\u001b[0m         \u001b[38;5;28;01mraise\u001b[39;00m \u001b[38;5;167;01mValueError\u001b[39;00m(\n\u001b[0;32m    339\u001b[0m             \u001b[38;5;124mf\u001b[39m\u001b[38;5;124m'\u001b[39m\u001b[38;5;124mUnrecognized marker style \u001b[39m\u001b[38;5;132;01m{\u001b[39;00mmarker\u001b[38;5;132;01m!r}\u001b[39;00m\u001b[38;5;124m'\u001b[39m) \u001b[38;5;28;01mfrom\u001b[39;00m \u001b[38;5;21;01merr\u001b[39;00m\n\u001b[0;32m    341\u001b[0m \u001b[38;5;28;01mif\u001b[39;00m \u001b[38;5;129;01mnot\u001b[39;00m \u001b[38;5;28misinstance\u001b[39m(marker, MarkerStyle):\n\u001b[0;32m    342\u001b[0m     \u001b[38;5;28mself\u001b[39m\u001b[38;5;241m.\u001b[39m_marker \u001b[38;5;241m=\u001b[39m marker\n",
      "\u001b[1;31mValueError\u001b[0m: Unrecognized marker style 'O'"
     ]
    },
    {
     "data": {
      "image/png": "[encoded data removed]",
      "text/plain": [
       "<Figure size 1000x600 with 1 Axes>"
      ]
     },
     "metadata": {},
     "output_type": "display_data"
    }
   ],
   "source": [
    "data={\n",
    "    'Month':['january','february','march','april','may','june','july','august','september','octomber','november','december'],\n",
    "    'reported_cases':[90,80,70,75,90,85,80,100,90,85,100,140]\n",
    "}\n",
    "df=pd.DataFrame(data)\n",
    "plt.figure(figsize=(10,6))\n",
    "plt.plot(df['Month'],df['reported_cases'],marker='O')\n",
    "plt.xlabel('Month')\n",
    "plt.ylabel('reported cases')\n",
    "plt.title('reported cases over time')\n",
    "plt.grid(True)\n",
    "plt.xticks(rotation=45)\n",
    "plt.show()"
   ]
  },
  {
   "cell_type": "code",
   "execution_count": 2,
   "id": "e4ca0e68-b30d-4cef-a2d7-717d9716f377",
   "metadata": {},
   "outputs": [
    {
     "name": "stdout",
     "output_type": "stream",
     "text": [
      "201.41666666666666\n"
     ]
    }
   ],
   "source": [
    "m=(182,199,160,227,173,210,227,205,275,208,169,182)\n",
    "average_cholestral_leval=sum(m)/12\n",
    "print(average_cholestral_leval)"
   ]
  },
  {
   "cell_type": "code",
   "execution_count": 33,
   "id": "32d348ae-8f58-4041-9097-10b6dad69af9",
   "metadata": {},
   "outputs": [
    {
     "name": "stdout",
     "output_type": "stream",
     "text": [
      "201.41666666666666\n"
     ]
    }
   ],
   "source": [
    "import numpy as np\n",
    "m=(182,199,160,227,173,210,227,205,275,208,169,182)\n",
    "mean_cholestral=np.mean(m)\n",
    "print(mean_cholestral)"
   ]
  },
  {
   "cell_type": "code",
   "execution_count": 79,
   "id": "78743b57-7978-4739-849b-46f18f61f51c",
   "metadata": {},
   "outputs": [
    {
     "data": {
      "text/html": [
       "<div>\n",
       "<style scoped>\n",
       "    .dataframe tbody tr th:only-of-type {\n",
       "        vertical-align: middle;\n",
       "    }\n",
       "\n",
       "    .dataframe tbody tr th {\n",
       "        vertical-align: top;\n",
       "    }\n",
       "\n",
       "    .dataframe thead th {\n",
       "        text-align: right;\n",
       "    }\n",
       "</style>\n",
       "<table border=\"1\" class=\"dataframe\">\n",
       "  <thead>\n",
       "    <tr style=\"text-align: right;\">\n",
       "      <th></th>\n",
       "      <th>Child participated in POLIO campaign August 2013</th>\n",
       "      <th>diarrhea_status</th>\n",
       "      <th>weight</th>\n",
       "      <th>height</th>\n",
       "      <th>residence</th>\n",
       "      <th>Sex</th>\n",
       "      <th>age</th>\n",
       "      <th>age_category</th>\n",
       "      <th>education</th>\n",
       "      <th>wealth_index</th>\n",
       "    </tr>\n",
       "  </thead>\n",
       "  <tbody>\n",
       "    <tr>\n",
       "      <th>0</th>\n",
       "      <td>1</td>\n",
       "      <td>No</td>\n",
       "      <td>16.2</td>\n",
       "      <td>102.4</td>\n",
       "      <td>Rural</td>\n",
       "      <td>Female</td>\n",
       "      <td>45</td>\n",
       "      <td>36-47</td>\n",
       "      <td>Secondary+</td>\n",
       "      <td>Richest</td>\n",
       "    </tr>\n",
       "    <tr>\n",
       "      <th>1</th>\n",
       "      <td>1</td>\n",
       "      <td>No</td>\n",
       "      <td>13.5</td>\n",
       "      <td>92.5</td>\n",
       "      <td>Rural</td>\n",
       "      <td>Male</td>\n",
       "      <td>45</td>\n",
       "      <td>36-47</td>\n",
       "      <td>Primary</td>\n",
       "      <td>Second</td>\n",
       "    </tr>\n",
       "    <tr>\n",
       "      <th>2</th>\n",
       "      <td>1</td>\n",
       "      <td>No</td>\n",
       "      <td>13.4</td>\n",
       "      <td>88.5</td>\n",
       "      <td>Rural</td>\n",
       "      <td>Male</td>\n",
       "      <td>36</td>\n",
       "      <td>36-47</td>\n",
       "      <td>Primary</td>\n",
       "      <td>Fourth</td>\n",
       "    </tr>\n",
       "    <tr>\n",
       "      <th>3</th>\n",
       "      <td>1</td>\n",
       "      <td>No</td>\n",
       "      <td>15.0</td>\n",
       "      <td>101.3</td>\n",
       "      <td>Rural</td>\n",
       "      <td>Female</td>\n",
       "      <td>51</td>\n",
       "      <td>48-59</td>\n",
       "      <td>Primary</td>\n",
       "      <td>Fourth</td>\n",
       "    </tr>\n",
       "    <tr>\n",
       "      <th>4</th>\n",
       "      <td>1</td>\n",
       "      <td>No</td>\n",
       "      <td>15.2</td>\n",
       "      <td>105.0</td>\n",
       "      <td>Rural</td>\n",
       "      <td>Female</td>\n",
       "      <td>56</td>\n",
       "      <td>48-59</td>\n",
       "      <td>Primary</td>\n",
       "      <td>Fourth</td>\n",
       "    </tr>\n",
       "  </tbody>\n",
       "</table>\n",
       "</div>"
      ],
      "text/plain": [
       "   Child participated in POLIO campaign August 2013  diarrhea_status  weight  \\\n",
       "0                                                 1               No    16.2   \n",
       "1                                                 1               No    13.5   \n",
       "2                                                 1               No    13.4   \n",
       "3                                                 1               No    15.0   \n",
       "4                                                 1               No    15.2   \n",
       "\n",
       "   height residence     Sex  age age_category   education wealth_index  \n",
       "0   102.4     Rural  Female   45        36-47  Secondary+      Richest  \n",
       "1    92.5     Rural    Male   45        36-47     Primary       Second  \n",
       "2    88.5     Rural    Male   36        36-47     Primary       Fourth  \n",
       "3   101.3     Rural  Female   51        48-59     Primary       Fourth  \n",
       "4   105.0     Rural  Female   56        48-59     Primary       Fourth  "
      ]
     },
     "execution_count": 79,
     "metadata": {},
     "output_type": "execute_result"
    }
   ],
   "source": [
    "import pandas as pd\n",
    "df=pd.read_csv(\"childhealthdata.csv\")\n",
    "df.head()\n"
   ]
  },
  {
   "cell_type": "code",
   "execution_count": 19,
   "id": "4168fc27-c5c3-4f1d-b5e0-187ee30bd940",
   "metadata": {},
   "outputs": [
    {
     "name": "stdout",
     "output_type": "stream",
     "text": [
      "12\n"
     ]
    }
   ],
   "source": [
    "mean_weight=round(df[\"weight\"].mean())\n",
    "print(mean_weight)"
   ]
  },
  {
   "cell_type": "code",
   "execution_count": 20,
   "id": "8894641a-c785-4305-80cd-6198bf17d91c",
   "metadata": {},
   "outputs": [
    {
     "name": "stdout",
     "output_type": "stream",
     "text": [
      "84\n"
     ]
    }
   ],
   "source": [
    "mean_height=round(df[\"height\"].mean())\n",
    "print(mean_height)"
   ]
  },
  {
   "cell_type": "code",
   "execution_count": 21,
   "id": "3c50716d-2d8b-4ecc-b892-429777480f2f",
   "metadata": {},
   "outputs": [
    {
     "name": "stdout",
     "output_type": "stream",
     "text": [
      "11.7\n"
     ]
    }
   ],
   "source": [
    "median_weight=df[\"weight\"].median()\n",
    "print(median_weight)"
   ]
  },
  {
   "cell_type": "code",
   "execution_count": 26,
   "id": "0e9e493b-fd07-4072-ab1f-9251ff93f0a3",
   "metadata": {},
   "outputs": [
    {
     "name": "stdout",
     "output_type": "stream",
     "text": [
      "85\n"
     ]
    }
   ],
   "source": [
    "n=[54,28,13,16,19,19,15,12,16,20]\n",
    "median_height=round(df[\"height\"].median())\n",
    "print(median_height)"
   ]
  },
  {
   "cell_type": "code",
   "execution_count": 31,
   "id": "416872d7-8735-4613-b03d-50cdc0d0b4c5",
   "metadata": {},
   "outputs": [
    {
     "name": "stdout",
     "output_type": "stream",
     "text": [
      "17.5\n"
     ]
    }
   ],
   "source": [
    "n=[54,28,13,16,19,19,15,12,16,20]\n",
    "median_mass=np.median(n)\n",
    "print(median_mass)"
   ]
  },
  {
   "cell_type": "code",
   "execution_count": 36,
   "id": "281ab7a4-ff9f-4099-94b8-044e743cbe58",
   "metadata": {},
   "outputs": [
    {
     "name": "stdout",
     "output_type": "stream",
     "text": [
      "16\n"
     ]
    }
   ],
   "source": [
    "mode_n=stats.mode(n,keepdims=False).mode\n",
    "print(mode_n)"
   ]
  },
  {
   "cell_type": "code",
   "execution_count": 51,
   "id": "e7a41d86-ca78-46ed-9415-0ecf3f721a63",
   "metadata": {},
   "outputs": [
    {
     "name": "stdout",
     "output_type": "stream",
     "text": [
      "0.25     9.2\n",
      "0.75    14.1\n",
      "Name: weight, dtype: float64\n"
     ]
    }
   ],
   "source": [
    "#calculate quntiles\n",
    "quantiles_25_75=df['weight'].quantile([0.25,0.75])\n",
    "print(quantiles_25_75)"
   ]
  },
  {
   "cell_type": "code",
   "execution_count": 56,
   "id": "560eb31c-2fad-4bf8-99d9-6985e17d5617",
   "metadata": {},
   "outputs": [
    {
     "ename": "AttributeError",
     "evalue": "'Series' object has no attribute 'percetile'",
     "output_type": "error",
     "traceback": [
      "\u001b[1;31m---------------------------------------------------------------------------\u001b[0m",
      "\u001b[1;31mAttributeError\u001b[0m                            Traceback (most recent call last)",
      "\u001b[1;32m~\\AppData\\Local\\Temp\\ipykernel_3892\\2985531408.py\u001b[0m in \u001b[0;36m?\u001b[1;34m()\u001b[0m\n\u001b[0;32m      1\u001b[0m \u001b[1;31m#calculate percetiles\u001b[0m\u001b[1;33m\u001b[0m\u001b[1;33m\u001b[0m\u001b[0m\n\u001b[1;32m----> 2\u001b[1;33m \u001b[0mpercetiles_25_75\u001b[0m\u001b[1;33m=\u001b[0m\u001b[0mdf\u001b[0m\u001b[1;33m[\u001b[0m\u001b[1;34m'weight'\u001b[0m\u001b[1;33m]\u001b[0m\u001b[1;33m.\u001b[0m\u001b[0mpercetile\u001b[0m\u001b[1;33m(\u001b[0m\u001b[1;33m[\u001b[0m\u001b[1;36m0.3\u001b[0m\u001b[1;33m,\u001b[0m\u001b[1;36m0.8\u001b[0m\u001b[1;33m]\u001b[0m\u001b[1;33m)\u001b[0m\u001b[1;33m\u001b[0m\u001b[1;33m\u001b[0m\u001b[0m\n\u001b[0m\u001b[0;32m      3\u001b[0m \u001b[0mprint\u001b[0m\u001b[1;33m(\u001b[0m\u001b[0mpercetiles_25_75\u001b[0m\u001b[1;33m)\u001b[0m\u001b[1;33m\u001b[0m\u001b[1;33m\u001b[0m\u001b[0m\n",
      "\u001b[1;32m~\\anaconda3\\Lib\\site-packages\\pandas\\core\\generic.py\u001b[0m in \u001b[0;36m?\u001b[1;34m(self, name)\u001b[0m\n\u001b[0;32m   6295\u001b[0m             \u001b[1;32mand\u001b[0m \u001b[0mname\u001b[0m \u001b[1;32mnot\u001b[0m \u001b[1;32min\u001b[0m \u001b[0mself\u001b[0m\u001b[1;33m.\u001b[0m\u001b[0m_accessors\u001b[0m\u001b[1;33m\u001b[0m\u001b[1;33m\u001b[0m\u001b[0m\n\u001b[0;32m   6296\u001b[0m             \u001b[1;32mand\u001b[0m \u001b[0mself\u001b[0m\u001b[1;33m.\u001b[0m\u001b[0m_info_axis\u001b[0m\u001b[1;33m.\u001b[0m\u001b[0m_can_hold_identifiers_and_holds_name\u001b[0m\u001b[1;33m(\u001b[0m\u001b[0mname\u001b[0m\u001b[1;33m)\u001b[0m\u001b[1;33m\u001b[0m\u001b[1;33m\u001b[0m\u001b[0m\n\u001b[0;32m   6297\u001b[0m         ):\n\u001b[0;32m   6298\u001b[0m             \u001b[1;32mreturn\u001b[0m \u001b[0mself\u001b[0m\u001b[1;33m[\u001b[0m\u001b[0mname\u001b[0m\u001b[1;33m]\u001b[0m\u001b[1;33m\u001b[0m\u001b[1;33m\u001b[0m\u001b[0m\n\u001b[1;32m-> 6299\u001b[1;33m         \u001b[1;32mreturn\u001b[0m \u001b[0mobject\u001b[0m\u001b[1;33m.\u001b[0m\u001b[0m__getattribute__\u001b[0m\u001b[1;33m(\u001b[0m\u001b[0mself\u001b[0m\u001b[1;33m,\u001b[0m \u001b[0mname\u001b[0m\u001b[1;33m)\u001b[0m\u001b[1;33m\u001b[0m\u001b[1;33m\u001b[0m\u001b[0m\n\u001b[0m",
      "\u001b[1;31mAttributeError\u001b[0m: 'Series' object has no attribute 'percetile'"
     ]
    }
   ],
   "source": [
    "#calculate percetiles\n",
    "percetiles_25_75=df['weight'].percetile([0.3,0.8])\n",
    "print(percetiles_25_75)"
   ]
  },
  {
   "cell_type": "code",
   "execution_count": 59,
   "id": "d707108c-dabe-4207-ae46-1b22c4d02ac8",
   "metadata": {},
   "outputs": [
    {
     "name": "stdout",
     "output_type": "stream",
     "text": [
      "21.9\n"
     ]
    }
   ],
   "source": [
    "#calculate range\n",
    "weight_range=df['weight'].max()-df['weight'].min()\n",
    "print(weight_range)"
   ]
  },
  {
   "cell_type": "code",
   "execution_count": 61,
   "id": "792c49c8-9893-4ac7-9eb1-8dd19d93c843",
   "metadata": {},
   "outputs": [
    {
     "name": "stdout",
     "output_type": "stream",
     "text": [
      "upper bound: 14.1\n",
      "lower bound: 9.2\n",
      "4.9\n"
     ]
    }
   ],
   "source": [
    "#calculate interquntile range(IQR)\n",
    "iqr=df['weight'].quantile(0.75)-df['weight'].quantile(0.25)\n",
    "print(\"upper bound:\",df['weight'].quantile(0.75))\n",
    "print(\"lower bound:\",df['weight'].quantile(0.25))\n",
    "print(iqr)"
   ]
  },
  {
   "cell_type": "code",
   "execution_count": 68,
   "id": "4ad485e2-2afa-420b-80d9-d6aedb8f118c",
   "metadata": {},
   "outputs": [
    {
     "name": "stdout",
     "output_type": "stream",
     "text": [
      "3.4087288270461693\n"
     ]
    }
   ],
   "source": [
    "#calculate standard deviation of weight\n",
    "std_deviation_weight=df['weight'].std()\n",
    "print(std_deviation_weight)"
   ]
  },
  {
   "cell_type": "code",
   "execution_count": 70,
   "id": "352668fa-d064-43e5-86fc-0a4990866530",
   "metadata": {},
   "outputs": [
    {
     "name": "stdout",
     "output_type": "stream",
     "text": [
      "11.619432216335554\n"
     ]
    }
   ],
   "source": [
    "#calculate variance of weight\n",
    "variance_weight=df['weight'].var()\n",
    "print(variance_weight)\n"
   ]
  },
  {
   "cell_type": "code",
   "execution_count": 81,
   "id": "d8297f45-45e2-47d3-ae1a-2aed4c353a06",
   "metadata": {},
   "outputs": [
    {
     "name": "stdout",
     "output_type": "stream",
     "text": [
      "79.8\n"
     ]
    }
   ],
   "source": [
    "#calculate range\n",
    "height_range=df['height'].max()-df['height'].min()\n",
    "print(height_range)"
   ]
  },
  {
   "cell_type": "code",
   "execution_count": 82,
   "id": "ed6d787e-0750-4791-ad9f-b9cafd59a2f7",
   "metadata": {},
   "outputs": [
    {
     "name": "stdout",
     "output_type": "stream",
     "text": [
      "13.79570411748078\n"
     ]
    }
   ],
   "source": [
    "#calculate standard deviation of height\n",
    "std_deviation_height=df['height'].std()\n",
    "print(std_deviation_height)"
   ]
  },
  {
   "cell_type": "code",
   "execution_count": 84,
   "id": "a3630f34-468e-4028-b881-cb9244db9090",
   "metadata": {},
   "outputs": [
    {
     "name": "stdout",
     "output_type": "stream",
     "text": [
      "-0.09040012558770584\n"
     ]
    }
   ],
   "source": [
    "from scipy.stats import skew\n",
    "skewness_weight=skew(df['weight'])\n",
    "print(skewness_weight)"
   ]
  },
  {
   "cell_type": "code",
   "execution_count": 87,
   "id": "0d9aa824-06c4-41c6-8ca3-d4c21edbccda",
   "metadata": {},
   "outputs": [
    {
     "name": "stdout",
     "output_type": "stream",
     "text": [
      "mean\n"
     ]
    }
   ],
   "source": [
    "\n",
    "#determine measure to report based on skewness\n",
    "skew_wt=skew(df['weight'])\n",
    "wt_measure=\"mean\" if abs(skew_wt) <=0.5 else \"median\"\n",
    "print(wt_measure)"
   ]
  },
  {
   "cell_type": "code",
   "execution_count": 1,
   "id": "1d79698e-6158-4881-97fd-910dad4a3951",
   "metadata": {},
   "outputs": [
    {
     "ename": "AttributeError",
     "evalue": "module 'pandas' has no attribute 'dataframe'",
     "output_type": "error",
     "traceback": [
      "\u001b[1;31m---------------------------------------------------------------------------\u001b[0m",
      "\u001b[1;31mAttributeError\u001b[0m                            Traceback (most recent call last)",
      "Cell \u001b[1;32mIn[1], line 5\u001b[0m\n\u001b[0;32m      1\u001b[0m \u001b[38;5;28;01mimport\u001b[39;00m \u001b[38;5;21;01mpandas\u001b[39;00m \u001b[38;5;28;01mas\u001b[39;00m \u001b[38;5;21;01mpd\u001b[39;00m\n\u001b[0;32m      2\u001b[0m data\u001b[38;5;241m=\u001b[39m{\n\u001b[0;32m      3\u001b[0m     \u001b[38;5;124m'\u001b[39m\u001b[38;5;124mintegers\u001b[39m\u001b[38;5;124m'\u001b[39m:[\u001b[38;5;241m3\u001b[39m,\u001b[38;5;241m5\u001b[39m,\u001b[38;5;241m7\u001b[39m,\u001b[38;5;241m10\u001b[39m,\u001b[38;5;241m12\u001b[39m]\n\u001b[0;32m      4\u001b[0m }\n\u001b[1;32m----> 5\u001b[0m df\u001b[38;5;241m=\u001b[39mpd\u001b[38;5;241m.\u001b[39mdataframe(data)\n\u001b[0;32m      6\u001b[0m df[\u001b[38;5;124m'\u001b[39m\u001b[38;5;124mrange\u001b[39m\u001b[38;5;124m'\u001b[39m]\u001b[38;5;241m=\u001b[39mdf[\u001b[38;5;124m'\u001b[39m\u001b[38;5;124minteger\u001b[39m\u001b[38;5;124m'\u001b[39m]\u001b[38;5;241m.\u001b[39mapply(\u001b[38;5;28;01mlambda\u001b[39;00m x:\u001b[38;5;28mrange\u001b[39m(x))\n\u001b[0;32m      7\u001b[0m \u001b[38;5;28mprint\u001b[39m(df)\n",
      "\u001b[1;31mAttributeError\u001b[0m: module 'pandas' has no attribute 'dataframe'"
     ]
    }
   ],
   "source": [
    "import pandas as pd\n",
    "data={\n",
    "    'integers':[3,5,7,10,12]\n",
    "}\n",
    "df=pd.dataframe(data)\n",
    "df['range']=df['integer'].apply(lambda x:range(x))\n",
    "print(df)"
   ]
  },
  {
   "cell_type": "code",
   "execution_count": null,
   "id": "84a99082-ab14-4e54-85e3-c123a2bbec9c",
   "metadata": {},
   "outputs": [],
   "source": []
  }
 ],
 "metadata": {
  "kernelspec": {
   "display_name": "Python 3 (ipykernel)",
   "language": "python",
   "name": "python3"
  },
  "language_info": {
   "codemirror_mode": {
    "name": "ipython",
    "version": 3
   },
   "file_extension": ".py",
   "mimetype": "text/x-python",
   "name": "python",
   "nbconvert_exporter": "python",
   "pygments_lexer": "ipython3",
   "version": "3.11.7"
  }
 },
 "nbformat": 4,
 "nbformat_minor": 5
}
