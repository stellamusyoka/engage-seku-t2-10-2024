{
 "cells": [
  {
   "cell_type": "code",
   "execution_count": 3,
   "id": "f804b6c5-1479-40ff-8cef-63b8c94fd21f",
   "metadata": {},
   "outputs": [
    {
     "name": "stdout",
     "output_type": "stream",
     "text": [
      "t_statistic: -0.7392604148446796\n",
      "p_value: 0.46273038396876176\n"
     ]
    }
   ],
   "source": [
    "from scipy.stats import ttest_ind\n",
    "import numpy as np\n",
    "mean_A=120\n",
    "std_A=10\n",
    "n_A=30\n",
    "mean_B=130\n",
    "std_B=12\n",
    "n_B=30\n",
    "np.random.seed(0)\n",
    "group_A=np.random.normal(mean_A,std_A,n_A)\n",
    "group_B=np.random.normal(mean_B,std_B,n_B)\n",
    "t_statistic,p_value=ttest_ind(group_A,group_B)\n",
    "print(\"t_statistic:\",t_statistic)\n",
    "print(\"p_value:\",p_value)"
   ]
  },
  {
   "cell_type": "code",
   "execution_count": 3,
   "id": "4515ff31-9fff-4ea4-9a18-2d753c86ddd9",
   "metadata": {},
   "outputs": [
    {
     "name": "stdout",
     "output_type": "stream",
     "text": [
      "T_statistic:nan,p_value:nan\n"
     ]
    }
   ],
   "source": [
    "import pandas as pd\n",
    "from scipy import stats\n",
    "#from google.colab import files\n",
    "#uploaded=files.upload()\n",
    "df=pd.read_csv(\"childhealthdata.csv\")\n",
    "group_A=df[df['Sex']=='male']['weight']\n",
    "group_B=df[df['Sex']=='female']['weight']\n",
    "t_statistic,p_value=stats.ttest_ind(group_A,group_B)\n",
    "print(f\"T_statistic:{t_statistic},p_value:{p_value}\")"
   ]
  },
  {
   "cell_type": "code",
   "execution_count": 7,
   "id": "3a7a1277-709f-4249-83fc-6fcb39373d80",
   "metadata": {},
   "outputs": [
    {
     "data": {
      "text/html": [
       "<div>\n",
       "<style scoped>\n",
       "    .dataframe tbody tr th:only-of-type {\n",
       "        vertical-align: middle;\n",
       "    }\n",
       "\n",
       "    .dataframe tbody tr th {\n",
       "        vertical-align: top;\n",
       "    }\n",
       "\n",
       "    .dataframe thead th {\n",
       "        text-align: right;\n",
       "    }\n",
       "</style>\n",
       "<table border=\"1\" class=\"dataframe\">\n",
       "  <thead>\n",
       "    <tr style=\"text-align: right;\">\n",
       "      <th></th>\n",
       "      <th>Child participated in POLIO campaign August 2013</th>\n",
       "      <th>diarrhea_status</th>\n",
       "      <th>weight</th>\n",
       "      <th>height</th>\n",
       "      <th>residence</th>\n",
       "      <th>Sex</th>\n",
       "      <th>age</th>\n",
       "      <th>age_category</th>\n",
       "      <th>education</th>\n",
       "      <th>wealth_index</th>\n",
       "    </tr>\n",
       "  </thead>\n",
       "  <tbody>\n",
       "    <tr>\n",
       "      <th>0</th>\n",
       "      <td>1</td>\n",
       "      <td>No</td>\n",
       "      <td>16.2</td>\n",
       "      <td>102.4</td>\n",
       "      <td>Rural</td>\n",
       "      <td>Female</td>\n",
       "      <td>45</td>\n",
       "      <td>36-47</td>\n",
       "      <td>Secondary+</td>\n",
       "      <td>Richest</td>\n",
       "    </tr>\n",
       "    <tr>\n",
       "      <th>1</th>\n",
       "      <td>1</td>\n",
       "      <td>No</td>\n",
       "      <td>13.5</td>\n",
       "      <td>92.5</td>\n",
       "      <td>Rural</td>\n",
       "      <td>Male</td>\n",
       "      <td>45</td>\n",
       "      <td>36-47</td>\n",
       "      <td>Primary</td>\n",
       "      <td>Second</td>\n",
       "    </tr>\n",
       "    <tr>\n",
       "      <th>2</th>\n",
       "      <td>1</td>\n",
       "      <td>No</td>\n",
       "      <td>13.4</td>\n",
       "      <td>88.5</td>\n",
       "      <td>Rural</td>\n",
       "      <td>Male</td>\n",
       "      <td>36</td>\n",
       "      <td>36-47</td>\n",
       "      <td>Primary</td>\n",
       "      <td>Fourth</td>\n",
       "    </tr>\n",
       "    <tr>\n",
       "      <th>3</th>\n",
       "      <td>1</td>\n",
       "      <td>No</td>\n",
       "      <td>15.0</td>\n",
       "      <td>101.3</td>\n",
       "      <td>Rural</td>\n",
       "      <td>Female</td>\n",
       "      <td>51</td>\n",
       "      <td>48-59</td>\n",
       "      <td>Primary</td>\n",
       "      <td>Fourth</td>\n",
       "    </tr>\n",
       "    <tr>\n",
       "      <th>4</th>\n",
       "      <td>1</td>\n",
       "      <td>No</td>\n",
       "      <td>15.2</td>\n",
       "      <td>105.0</td>\n",
       "      <td>Rural</td>\n",
       "      <td>Female</td>\n",
       "      <td>56</td>\n",
       "      <td>48-59</td>\n",
       "      <td>Primary</td>\n",
       "      <td>Fourth</td>\n",
       "    </tr>\n",
       "  </tbody>\n",
       "</table>\n",
       "</div>"
      ],
      "text/plain": [
       "   Child participated in POLIO campaign August 2013  diarrhea_status  weight  \\\n",
       "0                                                 1               No    16.2   \n",
       "1                                                 1               No    13.5   \n",
       "2                                                 1               No    13.4   \n",
       "3                                                 1               No    15.0   \n",
       "4                                                 1               No    15.2   \n",
       "\n",
       "   height residence     Sex  age age_category   education wealth_index  \n",
       "0   102.4     Rural  Female   45        36-47  Secondary+      Richest  \n",
       "1    92.5     Rural    Male   45        36-47     Primary       Second  \n",
       "2    88.5     Rural    Male   36        36-47     Primary       Fourth  \n",
       "3   101.3     Rural  Female   51        48-59     Primary       Fourth  \n",
       "4   105.0     Rural  Female   56        48-59     Primary       Fourth  "
      ]
     },
     "execution_count": 7,
     "metadata": {},
     "output_type": "execute_result"
    }
   ],
   "source": [
    "import pandas as pd\n",
    "df=pd.read_csv(\"childhealthdata.csv\")\n",
    "df.head()"
   ]
  },
  {
   "cell_type": "code",
   "execution_count": 3,
   "id": "e1dede54-cdbb-42e1-9b62-2dfbd769de43",
   "metadata": {},
   "outputs": [
    {
     "name": "stdout",
     "output_type": "stream",
     "text": [
      "   Test_result   Test_date  Sex  Age  Subcounty  Water  Sanitation  Income  \\\n",
      "0            0   12/5/2023    2   15          4      1           3       3   \n",
      "1            1  13/05/2023    2    6          2      3           3       1   \n",
      "2            0  14/05/2023    2    9          3      2           2       5   \n",
      "3            0  15/05/2023    2   10          1      4           4       5   \n",
      "4            0  16/05/2023    1   10          2      2           4       1   \n",
      "\n",
      "   Informal_settlement  Outcome  \n",
      "0                    2        0  \n",
      "1                    1        0  \n",
      "2                    2        0  \n",
      "3                    2        0  \n",
      "4                    1        0  \n",
      "Outcome   0  1\n",
      "Water         \n",
      "1        74  4\n",
      "2        74  1\n",
      "3        87  9\n",
      "4        61  2\n",
      "chi-square statistic:6.272907818532818\n",
      "p-value:0.0990618100698824\n"
     ]
    }
   ],
   "source": [
    "import pandas as pd\n",
    "from scipy import stats\n",
    "df=pd.read_csv('cholerar.csv')\n",
    "print(df.head())\n",
    "contingency_table=pd.crosstab(df['Water'], df['Outcome'])\n",
    "print(contingency_table)\n",
    "chi2,p,_,_=stats.chi2_contingency(contingency_table)\n",
    "print(f\"chi-square statistic:{chi2}\")\n",
    "print(f\"p-value:{p}\")"
   ]
  },
  {
   "cell_type": "code",
   "execution_count": 12,
   "id": "76eba586-1872-4b50-9def-6a20ae969817",
   "metadata": {},
   "outputs": [
    {
     "name": "stdout",
     "output_type": "stream",
     "text": [
      "Estimated weight for 66.8cm height:7.87kg\n",
      "Estimated weight for 115.3cm height:18.43kg\n",
      "Predicted weight for 92.5cm height:13.47kg\n",
      "error estimate for actual weight  13.5cm and height 92.5cm:0.034kg\n"
     ]
    }
   ],
   "source": [
    "def estimate_weight(height):\n",
    "    intercept=-6.671\n",
    "    slope=0.2177\n",
    "    return intercept + slope * height\n",
    "weight_66_8=estimate_weight(66.8)\n",
    "weight_115_3=estimate_weight(115.3)\n",
    "actual_weight=13.5\n",
    "height_92_5=92.5\n",
    "predicted_weight_92_5=estimate_weight(height_92_5)\n",
    "error_estimate=actual_weight-predicted_weight_92_5\n",
    "print(f\"Estimated weight for 66.8cm height:{weight_66_8:.2f}kg\")\n",
    "print(f\"Estimated weight for 115.3cm height:{weight_115_3:.2f}kg\")\n",
    "print(f\"Predicted weight for 92.5cm height:{predicted_weight_92_5:.2f}kg\")\n",
    "print(f\"error estimate for actual weight  13.5cm and height 92.5cm:{error_estimate:.3f}kg\")"
   ]
  },
  {
   "cell_type": "code",
   "execution_count": 5,
   "id": "6facfbe4-05b9-4267-a134-d383d1a7b312",
   "metadata": {},
   "outputs": [
    {
     "name": "stdout",
     "output_type": "stream",
     "text": [
      "Estimated weight for child 1 (70.4 cm ,4 months):8.07 kg\n",
      "Actual weight for child 1:7.1 kg\n",
      "Error estimate for child 1:-0.97 kg\n",
      "\\Actual weight for child 2 (105.6 cm, 55 months):8.07kg\n",
      "Actual weight for child 2:15.7 kg\n",
      "Error estimate for child 2:-0.76 kg\n"
     ]
    }
   ],
   "source": [
    "def estimate_weight(height,age):\n",
    "    intercept=-3.4673\n",
    "    height_coeff=0.1608\n",
    "    age_coeff=0.0536\n",
    "    return intercept + height_coeff * height + age_coeff * age\n",
    "estimated_weight_1=estimate_weight(70.4,4)\n",
    "estimated_weight_2=estimate_weight(105.6,55)\n",
    "actual_weight_1=7.1\n",
    "actual_weight_2=15.7\n",
    "error_estimate_1=actual_weight_1-estimated_weight_1\n",
    "error_estimate_2=actual_weight_2-estimated_weight_2\n",
    "print(f\"Estimated weight for child 1 (70.4 cm ,4 months):{estimated_weight_1:.2f} kg\")\n",
    "print(f\"Actual weight for child 1:{actual_weight_1} kg\")\n",
    "print(f\"Error estimate for child 1:{error_estimate_1:.2f} kg\")\n",
    "print(f\"\\Actual weight for child 2 (105.6 cm, 55 months):{estimated_weight_1:.2f}kg\")\n",
    "print(f\"Actual weight for child 2:{actual_weight_2} kg\")\n",
    "print(f\"Error estimate for child 2:{error_estimate_2:.2f} kg\")"
   ]
  },
  {
   "cell_type": "code",
   "execution_count": 6,
   "id": "b1b7c34e-718d-4408-9912-7c1e38eb0693",
   "metadata": {},
   "outputs": [
    {
     "name": "stdout",
     "output_type": "stream",
     "text": [
      "properbility of diarrhea for a child in a rural area:0.1015\n",
      "Estimated weight for child 1 (70.4 cm ,4 months):8.07 kg\n",
      "Actual weight for child 1:7.1 kg\n",
      "Error estimate for child 1:-0.97 kg\n",
      "\\Actual weight for child 2 (105.6 cm, 55 months):8.07kg\n",
      "Actual weight for child 2:15.7 kg\n",
      "Error estimate for child 2:-0.76 kg\n"
     ]
    }
   ],
   "source": [
    "import numpy as np\n",
    "intercept=-2.1802\n",
    "coefficient_urban=0.3543\n",
    "urban=0\n",
    "log_odds_rural=intercept + coefficient_urban*urban\n",
    "properbility_rural=1/(1 + np.exp(-log_odds_rural))\n",
    "print(f\"properbility of diarrhea for a child in a rural area:{properbility_rural:.4f}\")\n",
    "def estimate_weight(height,age):\n",
    "    intercept=-3.4673\n",
    "    height_coeff=0.1608\n",
    "    age_coeff=0.0536\n",
    "    return intercept + height_coeff * height + age_coeff * age\n",
    "estimated_weight_1=estimate_weight(70.4,4)\n",
    "estimated_weight_2=estimate_weight(105.6,55)\n",
    "actual_weight_1=7.1\n",
    "actual_weight_2=15.7\n",
    "error_estimate_1=actual_weight_1-estimated_weight_1\n",
    "error_estimate_2=actual_weight_2-estimated_weight_2\n",
    "print(f\"Estimated weight for child 1 (70.4 cm ,4 months):{estimated_weight_1:.2f} kg\")\n",
    "print(f\"Actual weight for child 1:{actual_weight_1} kg\")\n",
    "print(f\"Error estimate for child 1:{error_estimate_1:.2f} kg\")\n",
    "print(f\"\\Actual weight for child 2 (105.6 cm, 55 months):{estimated_weight_1:.2f}kg\")\n",
    "print(f\"Actual weight for child 2:{actual_weight_2} kg\")\n",
    "print(f\"Error estimate for child 2:{error_estimate_2:.2f} kg\")"
   ]
  },
  {
   "cell_type": "code",
   "execution_count": null,
   "id": "7c462380-156f-472e-bdc6-47fdedaab3d6",
   "metadata": {},
   "outputs": [],
   "source": []
  },
  {
   "cell_type": "code",
   "execution_count": null,
   "id": "dbc70d5f-2f41-4d13-a2d5-84e31009f12f",
   "metadata": {},
   "outputs": [],
   "source": []
  }
 ],
 "metadata": {
  "kernelspec": {
   "display_name": "Python 3 (ipykernel)",
   "language": "python",
   "name": "python3"
  },
  "language_info": {
   "codemirror_mode": {
    "name": "ipython",
    "version": 3
   },
   "file_extension": ".py",
   "mimetype": "text/x-python",
   "name": "python",
   "nbconvert_exporter": "python",
   "pygments_lexer": "ipython3",
   "version": "3.11.7"
  }
 },
 "nbformat": 4,
 "nbformat_minor": 5
}
