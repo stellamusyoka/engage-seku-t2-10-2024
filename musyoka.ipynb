{
 "cells": [
  {
   "cell_type": "code",
   "execution_count": 34,
   "id": "cd0df371-1f85-4958-9d12-6c21a2810c7b",
   "metadata": {},
   "outputs": [
    {
     "name": "stdout",
     "output_type": "stream",
     "text": [
      "   integer                                   range\n",
      "0        3                               (0, 1, 2)\n",
      "1        5                         (0, 1, 2, 3, 4)\n",
      "2        7                   (0, 1, 2, 3, 4, 5, 6)\n",
      "3       10          (0, 1, 2, 3, 4, 5, 6, 7, 8, 9)\n",
      "4       12  (0, 1, 2, 3, 4, 5, 6, 7, 8, 9, 10, 11)\n"
     ]
    }
   ],
   "source": [
    "import pandas as pd\n",
    "data={\n",
    "    'integer':[3,5,7,10,12]\n",
    "}\n",
    "df=pd.DataFrame(data)\n",
    "df['range']=df['integer'].apply(lambda x:range(x))\n",
    "print(df)"
   ]
  },
  {
   "cell_type": "code",
   "execution_count": 35,
   "id": "6c2e8171-4da7-4bf7-a39a-d5cee2c23c21",
   "metadata": {},
   "outputs": [
    {
     "name": "stdout",
     "output_type": "stream",
     "text": [
      "        Gender   Height Weight  Index  Unnamed: 4  Unnamed: 5 female  male\n",
      "0    Fema   le  15    8     89      4         NaN         NaN    158   158\n",
      "1    Fema   le  15    8     89      4         NaN         NaN    158   158\n",
      "2       Female      178    127      4         NaN         NaN    178   178\n",
      "3       Female     none    139      5         NaN         NaN   none  none\n",
      "4       Female     none    104      5         NaN         NaN    181   181\n",
      "..         ...      ...    ...    ...         ...         ...    ...   ...\n",
      "399       Male      190   none      5         NaN         NaN    NaN   NaN\n",
      "400       Male      164    130      5         NaN         NaN    NaN   NaN\n",
      "401       Male      185    138      5         NaN         NaN    NaN   NaN\n",
      "402       Male      188    158      5         NaN         NaN    NaN   NaN\n",
      "403       Male      161    155      5         NaN         NaN    NaN   NaN\n",
      "\n",
      "[404 rows x 8 columns]\n"
     ]
    }
   ],
   "source": [
    "import pandas as pd\n",
    "import numpy as np\n",
    "df=pd.read_csv(\"dirtybmi_23.csv\")\n",
    "#custom mapping for convertion\n",
    "mapping={\n",
    "    'True':1,\n",
    "    'False':0,\n",
    "    'Female':1,\n",
    "    'Male':0\n",
    "}\n",
    "#Applying the mapping to the column\n",
    "df['Gender'].map(mapping)\n",
    "print(df)"
   ]
  },
  {
   "cell_type": "code",
   "execution_count": 36,
   "id": "085879be-26d6-4479-b954-b591cfa6f748",
   "metadata": {},
   "outputs": [
    {
     "name": "stdout",
     "output_type": "stream",
     "text": [
      "<class 'pandas.core.frame.DataFrame'>\n",
      "RangeIndex: 404 entries, 0 to 403\n",
      "Data columns (total 8 columns):\n",
      " #   Column      Non-Null Count  Dtype   \n",
      "---  ------      --------------  -----   \n",
      " 0   Gender      404 non-null    category\n",
      " 1   Height      404 non-null    string  \n",
      " 2   Weight      404 non-null    string  \n",
      " 3   Index       404 non-null    int64   \n",
      " 4   Unnamed: 4  0 non-null      float64 \n",
      " 5   Unnamed: 5  0 non-null      float64 \n",
      " 6   female      204 non-null    category\n",
      " 7   male        204 non-null    category\n",
      "dtypes: category(3), float64(2), int64(1), string(2)\n",
      "memory usage: 22.5 KB\n"
     ]
    }
   ],
   "source": [
    "import pandas as pd\n",
    "import numpy as np\n",
    "df1=pd.read_csv(\"dirtybmi_23.csv\")\n",
    "df1['Gender']=df1['Gender'].astype('category')\n",
    "df1['Height']=df1['Height'].astype('string')\n",
    "df1['Weight']=df1['Weight'].astype('string')\n",
    "df1['female']=df1['female'].astype('category')\n",
    "df1['male']=df1['male'].astype('category')\n",
    "df1.info()\n",
    "\n",
    "\n"
   ]
  },
  {
   "cell_type": "code",
   "execution_count": 29,
   "id": "0e228cae-9ed1-4772-a784-1ac5f288cc39",
   "metadata": {},
   "outputs": [
    {
     "name": "stdout",
     "output_type": "stream",
     "text": [
      "original DataFrame:\n",
      "        name          city\n",
      "0      rose      makweni  \n",
      "1      jane     kwavonza  \n",
      "2   charlie       kitui   \n",
      "3     faith    mselele    \n"
     ]
    }
   ],
   "source": [
    "import pandas as pd\n",
    "data={\n",
    "    'name':[' rose ','jane ',' charlie ',' faith '],\n",
    "            'city':['   makweni  ','kwavonza  ',' kitui   ','mselele    ']\n",
    "}\n",
    "df=pd.DataFrame(data)\n",
    "print(\"original DataFrame:\")\n",
    "print(df)"
   ]
  },
  {
   "cell_type": "code",
   "execution_count": 27,
   "id": "307fa957-4f37-4bbf-8471-573377b8d742",
   "metadata": {},
   "outputs": [
    {
     "name": "stdout",
     "output_type": "stream",
     "text": [
      "\n",
      "Trimmed DataFrame:\n",
      "      name      city\n",
      "0     rose   makweni\n",
      "1     jane  kwavonza\n",
      "2  charlie     kitui\n",
      "3    faith   mselele\n"
     ]
    }
   ],
   "source": [
    "df['name']=df['name'].str.strip()\n",
    "df['city']=df['city'].str.strip()\n",
    "print(\"\\nTrimmed DataFrame:\")\n",
    "print(df)"
   ]
  },
  {
   "cell_type": "code",
   "execution_count": 59,
   "id": "72b8dcc9-0bdc-446d-9286-f65ca872efdc",
   "metadata": {},
   "outputs": [
    {
     "ename": "KeyError",
     "evalue": "'height'",
     "output_type": "error",
     "traceback": [
      "\u001b[1;31m---------------------------------------------------------------------------\u001b[0m",
      "\u001b[1;31mKeyError\u001b[0m                                  Traceback (most recent call last)",
      "File \u001b[1;32m~\\anaconda3\\Lib\\site-packages\\pandas\\core\\indexes\\base.py:3805\u001b[0m, in \u001b[0;36mIndex.get_loc\u001b[1;34m(self, key)\u001b[0m\n\u001b[0;32m   3804\u001b[0m \u001b[38;5;28;01mtry\u001b[39;00m:\n\u001b[1;32m-> 3805\u001b[0m     \u001b[38;5;28;01mreturn\u001b[39;00m \u001b[38;5;28mself\u001b[39m\u001b[38;5;241m.\u001b[39m_engine\u001b[38;5;241m.\u001b[39mget_loc(casted_key)\n\u001b[0;32m   3806\u001b[0m \u001b[38;5;28;01mexcept\u001b[39;00m \u001b[38;5;167;01mKeyError\u001b[39;00m \u001b[38;5;28;01mas\u001b[39;00m err:\n",
      "File \u001b[1;32mindex.pyx:167\u001b[0m, in \u001b[0;36mpandas._libs.index.IndexEngine.get_loc\u001b[1;34m()\u001b[0m\n",
      "File \u001b[1;32mindex.pyx:196\u001b[0m, in \u001b[0;36mpandas._libs.index.IndexEngine.get_loc\u001b[1;34m()\u001b[0m\n",
      "File \u001b[1;32mpandas\\\\_libs\\\\hashtable_class_helper.pxi:7081\u001b[0m, in \u001b[0;36mpandas._libs.hashtable.PyObjectHashTable.get_item\u001b[1;34m()\u001b[0m\n",
      "File \u001b[1;32mpandas\\\\_libs\\\\hashtable_class_helper.pxi:7089\u001b[0m, in \u001b[0;36mpandas._libs.hashtable.PyObjectHashTable.get_item\u001b[1;34m()\u001b[0m\n",
      "\u001b[1;31mKeyError\u001b[0m: 'height'",
      "\nThe above exception was the direct cause of the following exception:\n",
      "\u001b[1;31mKeyError\u001b[0m                                  Traceback (most recent call last)",
      "Cell \u001b[1;32mIn[59], line 7\u001b[0m\n\u001b[0;32m      5\u001b[0m height_min,height_max\u001b[38;5;241m=\u001b[39m\u001b[38;5;241m50\u001b[39m,\u001b[38;5;241m110\u001b[39m\n\u001b[0;32m      6\u001b[0m weight_min,weight_max\u001b[38;5;241m=\u001b[39m\u001b[38;5;241m4\u001b[39m,\u001b[38;5;241m20\u001b[39m\n\u001b[1;32m----> 7\u001b[0m out_of_range_height\u001b[38;5;241m=\u001b[39mdf[(df[\u001b[38;5;124m'\u001b[39m\u001b[38;5;124mheight\u001b[39m\u001b[38;5;124m'\u001b[39m] \u001b[38;5;241m<\u001b[39m height_min) \u001b[38;5;241m|\u001b[39m (df [\u001b[38;5;124m'\u001b[39m\u001b[38;5;124mheight\u001b[39m\u001b[38;5;124m'\u001b[39m] \u001b[38;5;241m>\u001b[39m height_max)]\n\u001b[0;32m      8\u001b[0m out_of_range_weight\u001b[38;5;241m=\u001b[39mdf[(df[\u001b[38;5;124m'\u001b[39m\u001b[38;5;124mweight\u001b[39m\u001b[38;5;124m'\u001b[39m] \u001b[38;5;241m<\u001b[39m weight_min) \u001b[38;5;241m|\u001b[39m (df[\u001b[38;5;124m'\u001b[39m\u001b[38;5;124mweight\u001b[39m\u001b[38;5;124m'\u001b[39m] \u001b[38;5;241m>\u001b[39m weight_max)]\n\u001b[0;32m      9\u001b[0m \u001b[38;5;28mprint\u001b[39m(\u001b[38;5;124m\"\u001b[39m\u001b[38;5;130;01m\\n\u001b[39;00m\u001b[38;5;124mRows with out-of-range\u001b[39m\u001b[38;5;124m'\u001b[39m\u001b[38;5;124mheight\u001b[39m\u001b[38;5;124m'\u001b[39m\u001b[38;5;124m:\u001b[39m\u001b[38;5;124m\"\u001b[39m)\n",
      "File \u001b[1;32m~\\anaconda3\\Lib\\site-packages\\pandas\\core\\frame.py:4102\u001b[0m, in \u001b[0;36mDataFrame.__getitem__\u001b[1;34m(self, key)\u001b[0m\n\u001b[0;32m   4100\u001b[0m \u001b[38;5;28;01mif\u001b[39;00m \u001b[38;5;28mself\u001b[39m\u001b[38;5;241m.\u001b[39mcolumns\u001b[38;5;241m.\u001b[39mnlevels \u001b[38;5;241m>\u001b[39m \u001b[38;5;241m1\u001b[39m:\n\u001b[0;32m   4101\u001b[0m     \u001b[38;5;28;01mreturn\u001b[39;00m \u001b[38;5;28mself\u001b[39m\u001b[38;5;241m.\u001b[39m_getitem_multilevel(key)\n\u001b[1;32m-> 4102\u001b[0m indexer \u001b[38;5;241m=\u001b[39m \u001b[38;5;28mself\u001b[39m\u001b[38;5;241m.\u001b[39mcolumns\u001b[38;5;241m.\u001b[39mget_loc(key)\n\u001b[0;32m   4103\u001b[0m \u001b[38;5;28;01mif\u001b[39;00m is_integer(indexer):\n\u001b[0;32m   4104\u001b[0m     indexer \u001b[38;5;241m=\u001b[39m [indexer]\n",
      "File \u001b[1;32m~\\anaconda3\\Lib\\site-packages\\pandas\\core\\indexes\\base.py:3812\u001b[0m, in \u001b[0;36mIndex.get_loc\u001b[1;34m(self, key)\u001b[0m\n\u001b[0;32m   3807\u001b[0m     \u001b[38;5;28;01mif\u001b[39;00m \u001b[38;5;28misinstance\u001b[39m(casted_key, \u001b[38;5;28mslice\u001b[39m) \u001b[38;5;129;01mor\u001b[39;00m (\n\u001b[0;32m   3808\u001b[0m         \u001b[38;5;28misinstance\u001b[39m(casted_key, abc\u001b[38;5;241m.\u001b[39mIterable)\n\u001b[0;32m   3809\u001b[0m         \u001b[38;5;129;01mand\u001b[39;00m \u001b[38;5;28many\u001b[39m(\u001b[38;5;28misinstance\u001b[39m(x, \u001b[38;5;28mslice\u001b[39m) \u001b[38;5;28;01mfor\u001b[39;00m x \u001b[38;5;129;01min\u001b[39;00m casted_key)\n\u001b[0;32m   3810\u001b[0m     ):\n\u001b[0;32m   3811\u001b[0m         \u001b[38;5;28;01mraise\u001b[39;00m InvalidIndexError(key)\n\u001b[1;32m-> 3812\u001b[0m     \u001b[38;5;28;01mraise\u001b[39;00m \u001b[38;5;167;01mKeyError\u001b[39;00m(key) \u001b[38;5;28;01mfrom\u001b[39;00m \u001b[38;5;21;01merr\u001b[39;00m\n\u001b[0;32m   3813\u001b[0m \u001b[38;5;28;01mexcept\u001b[39;00m \u001b[38;5;167;01mTypeError\u001b[39;00m:\n\u001b[0;32m   3814\u001b[0m     \u001b[38;5;66;03m# If we have a listlike key, _check_indexing_error will raise\u001b[39;00m\n\u001b[0;32m   3815\u001b[0m     \u001b[38;5;66;03m#  InvalidIndexError. Otherwise we fall through and re-raise\u001b[39;00m\n\u001b[0;32m   3816\u001b[0m     \u001b[38;5;66;03m#  the TypeError.\u001b[39;00m\n\u001b[0;32m   3817\u001b[0m     \u001b[38;5;28mself\u001b[39m\u001b[38;5;241m.\u001b[39m_check_indexing_error(key)\n",
      "\u001b[1;31mKeyError\u001b[0m: 'height'"
     ]
    }
   ],
   "source": [
    "import pandas as pd\n",
    "from scipy import stats\n",
    "csv_file='childhealthdata.csv'\n",
    "pf=pd.read_csv(csv_file)\n",
    "height_min,height_max=50,110\n",
    "weight_min,weight_max=4,20\n",
    "out_of_range_height=df[(df['height'] < height_min) | (df ['height'] > height_max)]\n",
    "out_of_range_weight=df[(df['weight'] < weight_min) | (df['weight'] > weight_max)]\n",
    "print(\"\\nRows with out-of-range'height':\")\n",
    "print(out-of-range-height)\n",
    "print(\"\\nRows with out-of-range'weight':\")\n",
    "print(out-of-range-weight)"
   ]
  },
  {
   "cell_type": "code",
   "execution_count": 7,
   "id": "046f80bf-f064-4cff-91c8-e0b6f232134d",
   "metadata": {},
   "outputs": [
    {
     "name": "stdout",
     "output_type": "stream",
     "text": [
      "0      False\n",
      "1       True\n",
      "2      False\n",
      "3      False\n",
      "4      False\n",
      "       ...  \n",
      "399    False\n",
      "400    False\n",
      "401    False\n",
      "402    False\n",
      "403    False\n",
      "Length: 404, dtype: bool\n"
     ]
    }
   ],
   "source": [
    "import pandas as pd\n",
    "from scipy import stats\n",
    "df=pd.read_csv('dirtybmi_23.csv')\n",
    "duplicates=df.duplicated()\n",
    "print(duplicates)"
   ]
  },
  {
   "cell_type": "code",
   "execution_count": 54,
   "id": "75544755-a564-4700-a812-f40ade7d06fa",
   "metadata": {},
   "outputs": [
    {
     "name": "stdout",
     "output_type": "stream",
     "text": [
      "<bound method DataFrame.drop_duplicates of         Gender   Height Weight  Index  Unnamed: 4  Unnamed: 5 female  male\n",
      "0    Fema   le  15    8     89      4         NaN         NaN    158   158\n",
      "1    Fema   le  15    8     89      4         NaN         NaN    158   158\n",
      "2       Female      178    127      4         NaN         NaN    178   178\n",
      "3       Female     none    139      5         NaN         NaN   none  none\n",
      "4       Female     none    104      5         NaN         NaN    181   181\n",
      "..         ...      ...    ...    ...         ...         ...    ...   ...\n",
      "399       Male      190   none      5         NaN         NaN    NaN   NaN\n",
      "400       Male      164    130      5         NaN         NaN    NaN   NaN\n",
      "401       Male      185    138      5         NaN         NaN    NaN   NaN\n",
      "402       Male      188    158      5         NaN         NaN    NaN   NaN\n",
      "403       Male      161    155      5         NaN         NaN    NaN   NaN\n",
      "\n",
      "[404 rows x 8 columns]>\n"
     ]
    }
   ],
   "source": [
    "import pandas as pd\n",
    "from scipy import stats\n",
    "df=pd.read_csv('dirtybmi_23.csv')\n",
    "df.drop_duplicates\n",
    "clean=df.drop_duplicates\n",
    "print(clean)\n"
   ]
  },
  {
   "cell_type": "code",
   "execution_count": 3,
   "id": "5790030e-d4ad-4cdb-a8e1-ce4ed3b14b5c",
   "metadata": {},
   "outputs": [
    {
     "data": {
      "text/html": [
       "<div>\n",
       "<style scoped>\n",
       "    .dataframe tbody tr th:only-of-type {\n",
       "        vertical-align: middle;\n",
       "    }\n",
       "\n",
       "    .dataframe tbody tr th {\n",
       "        vertical-align: top;\n",
       "    }\n",
       "\n",
       "    .dataframe thead th {\n",
       "        text-align: right;\n",
       "    }\n",
       "</style>\n",
       "<table border=\"1\" class=\"dataframe\">\n",
       "  <thead>\n",
       "    <tr style=\"text-align: right;\">\n",
       "      <th></th>\n",
       "      <th>Gender</th>\n",
       "      <th>Height</th>\n",
       "      <th>Weight</th>\n",
       "      <th>Index</th>\n",
       "      <th>Unnamed: 4</th>\n",
       "      <th>Unnamed: 5</th>\n",
       "      <th>female</th>\n",
       "      <th>male</th>\n",
       "    </tr>\n",
       "  </thead>\n",
       "  <tbody>\n",
       "    <tr>\n",
       "      <th>0</th>\n",
       "      <td>Fema   le</td>\n",
       "      <td>15    8</td>\n",
       "      <td>89</td>\n",
       "      <td>4</td>\n",
       "      <td>NaN</td>\n",
       "      <td>NaN</td>\n",
       "      <td>158</td>\n",
       "      <td>158</td>\n",
       "    </tr>\n",
       "    <tr>\n",
       "      <th>1</th>\n",
       "      <td>Fema   le</td>\n",
       "      <td>15    8</td>\n",
       "      <td>89</td>\n",
       "      <td>4</td>\n",
       "      <td>NaN</td>\n",
       "      <td>NaN</td>\n",
       "      <td>158</td>\n",
       "      <td>158</td>\n",
       "    </tr>\n",
       "    <tr>\n",
       "      <th>2</th>\n",
       "      <td>Female</td>\n",
       "      <td>178</td>\n",
       "      <td>127</td>\n",
       "      <td>4</td>\n",
       "      <td>NaN</td>\n",
       "      <td>NaN</td>\n",
       "      <td>178</td>\n",
       "      <td>178</td>\n",
       "    </tr>\n",
       "    <tr>\n",
       "      <th>3</th>\n",
       "      <td>Female</td>\n",
       "      <td>none</td>\n",
       "      <td>139</td>\n",
       "      <td>5</td>\n",
       "      <td>NaN</td>\n",
       "      <td>NaN</td>\n",
       "      <td>none</td>\n",
       "      <td>none</td>\n",
       "    </tr>\n",
       "    <tr>\n",
       "      <th>4</th>\n",
       "      <td>Female</td>\n",
       "      <td>none</td>\n",
       "      <td>104</td>\n",
       "      <td>5</td>\n",
       "      <td>NaN</td>\n",
       "      <td>NaN</td>\n",
       "      <td>181</td>\n",
       "      <td>181</td>\n",
       "    </tr>\n",
       "    <tr>\n",
       "      <th>5</th>\n",
       "      <td>Femal   e</td>\n",
       "      <td>147</td>\n",
       "      <td>68</td>\n",
       "      <td>2</td>\n",
       "      <td>NaN</td>\n",
       "      <td>NaN</td>\n",
       "      <td>147</td>\n",
       "      <td>147</td>\n",
       "    </tr>\n",
       "    <tr>\n",
       "      <th>6</th>\n",
       "      <td>Female</td>\n",
       "      <td>1   42</td>\n",
       "      <td>92</td>\n",
       "      <td>4</td>\n",
       "      <td>NaN</td>\n",
       "      <td>NaN</td>\n",
       "      <td>142</td>\n",
       "      <td>142</td>\n",
       "    </tr>\n",
       "    <tr>\n",
       "      <th>7</th>\n",
       "      <td>Fe   male</td>\n",
       "      <td>146</td>\n",
       "      <td>10     8</td>\n",
       "      <td>4</td>\n",
       "      <td>NaN</td>\n",
       "      <td>NaN</td>\n",
       "      <td>146</td>\n",
       "      <td>146</td>\n",
       "    </tr>\n",
       "    <tr>\n",
       "      <th>8</th>\n",
       "      <td>Female</td>\n",
       "      <td>173</td>\n",
       "      <td>130</td>\n",
       "      <td>5</td>\n",
       "      <td>NaN</td>\n",
       "      <td>NaN</td>\n",
       "      <td>173</td>\n",
       "      <td>173</td>\n",
       "    </tr>\n",
       "    <tr>\n",
       "      <th>9</th>\n",
       "      <td>F   emale</td>\n",
       "      <td>170</td>\n",
       "      <td>71</td>\n",
       "      <td>4</td>\n",
       "      <td>NaN</td>\n",
       "      <td>NaN</td>\n",
       "      <td>170</td>\n",
       "      <td>170</td>\n",
       "    </tr>\n",
       "  </tbody>\n",
       "</table>\n",
       "</div>"
      ],
      "text/plain": [
       "      Gender   Height    Weight  Index  Unnamed: 4  Unnamed: 5 female  male\n",
       "0  Fema   le  15    8        89      4         NaN         NaN    158   158\n",
       "1  Fema   le  15    8        89      4         NaN         NaN    158   158\n",
       "2     Female      178       127      4         NaN         NaN    178   178\n",
       "3     Female     none       139      5         NaN         NaN   none  none\n",
       "4     Female     none       104      5         NaN         NaN    181   181\n",
       "5  Femal   e      147        68      2         NaN         NaN    147   147\n",
       "6     Female   1   42        92      4         NaN         NaN    142   142\n",
       "7  Fe   male      146  10     8      4         NaN         NaN    146   146\n",
       "8     Female      173       130      5         NaN         NaN    173   173\n",
       "9  F   emale      170        71      4         NaN         NaN    170   170"
      ]
     },
     "execution_count": 3,
     "metadata": {},
     "output_type": "execute_result"
    }
   ],
   "source": [
    "import pandas as pd\n",
    "df=pd.read_csv(\"dirtybmi_23.csv\")\n",
    "df.head(10)"
   ]
  },
  {
   "cell_type": "code",
   "execution_count": 4,
   "id": "8165c828-dd13-43ba-a63f-d26fc7692e25",
   "metadata": {},
   "outputs": [
    {
     "name": "stdout",
     "output_type": "stream",
     "text": [
      "<bound method DataFrame.drop_duplicates of         Gender   Height Weight  Index  Unnamed: 4  Unnamed: 5 female  male\n",
      "0    Fema   le  15    8     89      4         NaN         NaN    158   158\n",
      "1    Fema   le  15    8     89      4         NaN         NaN    158   158\n",
      "2       Female      178    127      4         NaN         NaN    178   178\n",
      "3       Female     none    139      5         NaN         NaN   none  none\n",
      "4       Female     none    104      5         NaN         NaN    181   181\n",
      "..         ...      ...    ...    ...         ...         ...    ...   ...\n",
      "399       Male      190   none      5         NaN         NaN    NaN   NaN\n",
      "400       Male      164    130      5         NaN         NaN    NaN   NaN\n",
      "401       Male      185    138      5         NaN         NaN    NaN   NaN\n",
      "402       Male      188    158      5         NaN         NaN    NaN   NaN\n",
      "403       Male      161    155      5         NaN         NaN    NaN   NaN\n",
      "\n",
      "[404 rows x 8 columns]>\n"
     ]
    }
   ],
   "source": [
    "import pandas as pd\n",
    "from scipy import stats\n",
    "df=pd.read_csv('dirtybmi_23.csv')\n",
    "df.drop_duplicates\n",
    "clean=df.drop_duplicates\n",
    "print(clean)\n"
   ]
  },
  {
   "cell_type": "code",
   "execution_count": 8,
   "id": "ce220592-cc59-4d21-ab88-efb124bede66",
   "metadata": {},
   "outputs": [
    {
     "name": "stdout",
     "output_type": "stream",
     "text": [
      "\n",
      "Trimmed DataFrame:\n",
      "        Gender   Height Weight  Index  Unnamed: 4  Unnamed: 5 female  male\n",
      "0    Fema   le  15    8     89      4         NaN         NaN    158   158\n",
      "1    Fema   le  15    8     89      4         NaN         NaN    158   158\n",
      "2       Female      178    127      4         NaN         NaN    178   178\n",
      "3       Female     none    139      5         NaN         NaN   none  none\n",
      "4       Female     none    104      5         NaN         NaN    181   181\n",
      "..         ...      ...    ...    ...         ...         ...    ...   ...\n",
      "399       Male      190   none      5         NaN         NaN    NaN   NaN\n",
      "400       Male      164    130      5         NaN         NaN    NaN   NaN\n",
      "401       Male      185    138      5         NaN         NaN    NaN   NaN\n",
      "402       Male      188    158      5         NaN         NaN    NaN   NaN\n",
      "403       Male      161    155      5         NaN         NaN    NaN   NaN\n",
      "\n",
      "[404 rows x 8 columns]\n"
     ]
    }
   ],
   "source": [
    "df['Gender']=df['Gender'].str.strip()\n",
    "df['Height']=df['Height'].str.strip()\n",
    "print(\"\\nTrimmed DataFrame:\")\n",
    "print(df)"
   ]
  },
  {
   "cell_type": "code",
   "execution_count": 8,
   "id": "1f4ef54f-bd4e-4840-8e0c-dc9bbdb42e90",
   "metadata": {},
   "outputs": [
    {
     "data": {
      "text/plain": [
       "<bound method NDFrame.head of    Patient ID     Name   Gender Blood Type Diagnosis Code\n",
       "0           1    Alice   Female         A+            A00\n",
       "1           2      Bob     Male          B            B99\n",
       "2           3  Charlie   Others         O+            C30\n",
       "3           4    David  Unknown        AB-            XYZ>"
      ]
     },
     "execution_count": 8,
     "metadata": {},
     "output_type": "execute_result"
    }
   ],
   "source": [
    "import pandas as pd\n",
    "#sample health data\n",
    "data={\n",
    "    'Patient ID':[1,2,3,4],\n",
    "    'Name':['Alice','Bob','Charlie','David'],\n",
    "    'Gender':['Female','Male','Others','Unknown'],#\"Unknown\"is valid\n",
    "    'Blood Type':['A+','B','O+','AB-'],#All valid\n",
    "    'Diagnosis Code':['A00','B99','C30','XYZ'] # \"XYZ\" is invalid\n",
    "}\n",
    "df=pd.DataFrame(data)\n",
    "df.head"
   ]
  },
  {
   "cell_type": "code",
   "execution_count": 26,
   "id": "72227899-1728-41b5-8689-de1d1bfcae95",
   "metadata": {},
   "outputs": [
    {
     "data": {
      "text/plain": [
       "<bound method NDFrame.head of    Patient ID     Name   Gender Blood Type Diagnosis Code\n",
       "0           1    Alice   Female         A+            A00\n",
       "1           2      Bob     Male          B            B99\n",
       "2           3  Charlie   Others         O+            C30\n",
       "3           4    David  Unknown        AB-            XYZ>"
      ]
     },
     "execution_count": 26,
     "metadata": {},
     "output_type": "execute_result"
    }
   ],
   "source": [
    "#Define valid values for each field\n",
    "valid_genders={'Male','Female','Others'}\n",
    "valid_blood_types={'A','A-','B+','B-','O+','O-','AB+','AB-'}\n",
    "valid_diagnosis_codes={'A00','B99','C10'} # Example ICD-10 codes\n",
    "df.head"
   ]
  },
  {
   "cell_type": "code",
   "execution_count": 28,
   "id": "27c750f1-4be3-47ed-b1d9-c8f6515644e5",
   "metadata": {},
   "outputs": [],
   "source": [
    "def check_membership(value,valid_set):\n",
    "    if value not in valid_set:\n",
    "        return False\n",
    "        return True\n",
    "def validate_health_data(df):\n",
    "     invalid_rows=[]\n",
    "for index,row in df.iterrows():\n",
    "    errors={}\n",
    "    if not check_membership(row['Gender'],valid_genders):\n",
    "        errors['Gender']=row['Gender']\n",
    "    if not check_membership(row['Blood Type'],valid_blood_types):\n",
    "        errors['Blood Type']=row['Blood Type']\n",
    "    if not check_membership(row['Diagnosis Code'],valid_diagnosis_codes):\n",
    "        errors['Diagnosis Code']=row['Diagnosis Code']\n",
    "    \n",
    "    "
   ]
  },
  {
   "cell_type": "code",
   "execution_count": 33,
   "id": "0d8cb1bb-bd81-4605-8a0c-d91861749131",
   "metadata": {},
   "outputs": [
    {
     "ename": "NameError",
     "evalue": "name 'invalid_entries' is not defined",
     "output_type": "error",
     "traceback": [
      "\u001b[1;31m---------------------------------------------------------------------------\u001b[0m",
      "\u001b[1;31mNameError\u001b[0m                                 Traceback (most recent call last)",
      "Cell \u001b[1;32mIn[33], line 1\u001b[0m\n\u001b[1;32m----> 1\u001b[0m df_cleaned\u001b[38;5;241m=\u001b[39mdf\u001b[38;5;241m.\u001b[39mdrop(index\u001b[38;5;241m=\u001b[39m[entry[\u001b[38;5;124m'\u001b[39m\u001b[38;5;124mindex\u001b[39m\u001b[38;5;124m'\u001b[39m] \u001b[38;5;28;01mfor\u001b[39;00m entry \u001b[38;5;129;01min\u001b[39;00m invalid_entries])\n\u001b[0;32m      2\u001b[0m \u001b[38;5;28;01mfor\u001b[39;00m entry \u001b[38;5;129;01min\u001b[39;00m invalid_entries:\n\u001b[0;32m      3\u001b[0m     \u001b[38;5;28;01mfor\u001b[39;00m field \u001b[38;5;129;01min\u001b[39;00m entry[\u001b[38;5;124m'\u001b[39m\u001b[38;5;124merror\u001b[39m\u001b[38;5;124m'\u001b[39m]:\n",
      "\u001b[1;31mNameError\u001b[0m: name 'invalid_entries' is not defined"
     ]
    }
   ],
   "source": [
    "df_cleaned=df.drop(index=[entry['index'] for entry in invalid_entries])\n",
    "for entry in invalid_entries:\n",
    "    for field in entry['error']:\n",
    "        if fields=='Gender':\n",
    "            df.at[entry['index'],field]='other'\n",
    "        elif field=='Diagnosis Code':\n",
    "            df.at[entry['index'],field]='A00'\n",
    "print(\"\\ncleaned DataFrame:\")\n",
    "print(df_cleaned)"
   ]
  },
  {
   "cell_type": "code",
   "execution_count": 45,
   "id": "beb738b0-c6af-4a11-b6c8-9821f08b1bad",
   "metadata": {},
   "outputs": [
    {
     "name": "stdout",
     "output_type": "stream",
     "text": [
      "Invalid Rows:\n",
      "   EmployeeID Name  Age  Years of Expirience Is Valid\n",
      "1           2  Bob   25                   27    False\n"
     ]
    }
   ],
   "source": [
    "import pandas as pd\n",
    "data={\n",
    "    'EmployeeID':[1,2,3,4],\n",
    "    'Name':['Alice','Bob','Charlie','David'],\n",
    "    'Age':[30,25,40,22],\n",
    "    'Years of Expirience':[5,27,15,1]\n",
    "}\n",
    "df=pd.DataFrame(data)\n",
    "#Cross-field validation function\n",
    "def validate_expirience(row):\n",
    " if row['Years of Expirience']>row['Age']:\n",
    "     return False\n",
    "     return True\n",
    "df['Is Valid']=df.apply(validate_expirience,axis=1)\n",
    "invalid_rows=df[df['Is Valid']==False]\n",
    "print(\"Invalid Rows:\")\n",
    "print(invalid_rows)\n",
    "\n"
   ]
  },
  {
   "cell_type": "code",
   "execution_count": 1,
   "id": "0cac3186-a8f4-4c2d-be6f-1bb340d347d8",
   "metadata": {},
   "outputs": [],
   "source": [
    "import pandas as pd\n",
    "data={\n",
    "    'Start Date':['2023-01-01','2023-02-01','2023-03-01'],\n",
    "     'End Date':['2023-01-10','2023-01-05','2023-04-01'],\n",
    "}\n",
    "df=pd.DataFrame(data)\n",
    "df['Start Date']=pd.to_datetime(df['Start Date'])\n",
    "df['End Date']=pd.to_datetime(df['End Date'])\n",
    "\n"
   ]
  },
  {
   "cell_type": "code",
   "execution_count": 3,
   "id": "4330a985-ee26-4d70-9531-cb933c2239d2",
   "metadata": {},
   "outputs": [
    {
     "name": "stdout",
     "output_type": "stream",
     "text": [
      "  Start Date   End Date  Valid\n",
      "0 2023-01-01 2023-01-10   True\n",
      "1 2023-02-01 2023-01-05  False\n",
      "2 2023-03-01 2023-04-01   True\n",
      "invalid rows found:\n",
      "  Start Date   End Date  Valid\n",
      "1 2023-02-01 2023-01-05  False\n"
     ]
    }
   ],
   "source": [
    "df['Valid']=df['Start Date']<df['End Date']\n",
    "print(df)\n",
    "invalid_rows=df[~df['Valid']]\n",
    "if not invalid_rows.empty:\n",
    "    print(\"invalid rows found:\")\n",
    "    print(invalid_rows)\n",
    "else:\n",
    "   print(\"All rows are valid.\")"
   ]
  },
  {
   "cell_type": "code",
   "execution_count": 16,
   "id": "2ab0efe8-68c1-4dfb-b478-6d2a9b0e54fb",
   "metadata": {},
   "outputs": [
    {
     "name": "stdout",
     "output_type": "stream",
     "text": [
      "        Gender   Height Weight  Index  Unnamed: 4  Unnamed: 5 female  male  \\\n",
      "0    Fema   le  15    8     89      4         NaN         NaN    158   158   \n",
      "1    Fema   le  15    8     89      4         NaN         NaN    158   158   \n",
      "2       Female      178    127      4         NaN         NaN    178   178   \n",
      "3       Female     none    139      5         NaN         NaN   none  none   \n",
      "4       Female     none    104      5         NaN         NaN    181   181   \n",
      "..         ...      ...    ...    ...         ...         ...    ...   ...   \n",
      "399       Male      190   none      5         NaN         NaN    NaN   NaN   \n",
      "400       Male      164    130      5         NaN         NaN    NaN   NaN   \n",
      "401       Male      185    138      5         NaN         NaN    NaN   NaN   \n",
      "402       Male      188    158      5         NaN         NaN    NaN   NaN   \n",
      "403       Male      161    155      5         NaN         NaN    NaN   NaN   \n",
      "\n",
      "     Valid  \n",
      "0     True  \n",
      "1     True  \n",
      "2    False  \n",
      "3    False  \n",
      "4    False  \n",
      "..     ...  \n",
      "399   True  \n",
      "400  False  \n",
      "401  False  \n",
      "402  False  \n",
      "403  False  \n",
      "\n",
      "[404 rows x 9 columns]\n",
      "invalid rows found:\n",
      "        Gender Height    Weight  Index  Unnamed: 4  Unnamed: 5 female  male  \\\n",
      "2       Female    178       127      4         NaN         NaN    178   178   \n",
      "3       Female   none       139      5         NaN         NaN   none  none   \n",
      "4       Female   none       104      5         NaN         NaN    181   181   \n",
      "7    Fe   male    146  10     8      4         NaN         NaN    146   146   \n",
      "8       Female    173       130      5         NaN         NaN    173   173   \n",
      "..         ...    ...       ...    ...         ...         ...    ...   ...   \n",
      "398       Male    186       117      4         NaN         NaN    NaN   NaN   \n",
      "400       Male    164       130      5         NaN         NaN    NaN   NaN   \n",
      "401       Male    185       138      5         NaN         NaN    NaN   NaN   \n",
      "402       Male    188       158      5         NaN         NaN    NaN   NaN   \n",
      "403       Male    161       155      5         NaN         NaN    NaN   NaN   \n",
      "\n",
      "     Valid  \n",
      "2    False  \n",
      "3    False  \n",
      "4    False  \n",
      "7    False  \n",
      "8    False  \n",
      "..     ...  \n",
      "398  False  \n",
      "400  False  \n",
      "401  False  \n",
      "402  False  \n",
      "403  False  \n",
      "\n",
      "[212 rows x 9 columns]\n"
     ]
    }
   ],
   "source": [
    "import pandas as pd\n",
    "df=pd.read_csv('dirtybmi_23.csv')\n",
    "df['Valid']=df['Height']<df['Weight']\n",
    "print(df)\n",
    "invalid_rows=df[~df['Valid']]\n",
    "if not invalid_rows.empty:\n",
    "    print(\"invalid rows found:\")\n",
    "    print(invalid_rows)\n",
    "else:\n",
    "   print(\"All rows are valid.\")"
   ]
  },
  {
   "cell_type": "code",
   "execution_count": 18,
   "id": "899745f2-ca26-4042-91c7-5de4b3848915",
   "metadata": {},
   "outputs": [
    {
     "name": "stdout",
     "output_type": "stream",
     "text": [
      "Invalid Rows:\n",
      "        Gender Height    Weight  Index  Unnamed: 4  Unnamed: 5 female  male  \\\n",
      "2       Female    178       127      4         NaN         NaN    178   178   \n",
      "3       Female   none       139      5         NaN         NaN   none  none   \n",
      "4       Female   none       104      5         NaN         NaN    181   181   \n",
      "7    Fe   male    146  10     8      4         NaN         NaN    146   146   \n",
      "8       Female    173       130      5         NaN         NaN    173   173   \n",
      "..         ...    ...       ...    ...         ...         ...    ...   ...   \n",
      "398       Male    186       117      4         NaN         NaN    NaN   NaN   \n",
      "400       Male    164       130      5         NaN         NaN    NaN   NaN   \n",
      "401       Male    185       138      5         NaN         NaN    NaN   NaN   \n",
      "402       Male    188       158      5         NaN         NaN    NaN   NaN   \n",
      "403       Male    161       155      5         NaN         NaN    NaN   NaN   \n",
      "\n",
      "    Is Valid  \n",
      "2      False  \n",
      "3      False  \n",
      "4      False  \n",
      "7      False  \n",
      "8      False  \n",
      "..       ...  \n",
      "398    False  \n",
      "400    False  \n",
      "401    False  \n",
      "402    False  \n",
      "403    False  \n",
      "\n",
      "[212 rows x 9 columns]\n"
     ]
    }
   ],
   "source": [
    "import pandas as pd\n",
    "df=pd.read_csv('dirtybmi_23.csv')\n",
    "def validate_Height(row):\n",
    "    if row['Height']>row['Weight']:\n",
    "     return False\n",
    "     return True\n",
    "df['Is Valid']=df.apply(validate_Height,axis=1)\n",
    "invalid_rows=df[df['Is Valid']==False]\n",
    "print(\"Invalid Rows:\")\n",
    "print(invalid_rows)\n"
   ]
  },
  {
   "cell_type": "code",
   "execution_count": 10,
   "id": "5bab6529-a30f-42ec-b55c-1dc2e4046e65",
   "metadata": {},
   "outputs": [],
   "source": [
    "import pandas as pd\n",
    "import numpy as np\n",
    "data={\n",
    "    'A':[1,2,np.nan,4,5],\n",
    "    'B':[5,np.nan,np.nan,8,10],\n",
    "    'C':[np.nan,2,3,4,np.nan],\n",
    "    'D':['dog','cat',np.nan,'mouse','rabbit']\n",
    "}\n",
    "    "
   ]
  },
  {
   "cell_type": "code",
   "execution_count": 11,
   "id": "5525ac77-b965-4229-933a-7f6e5e242bb7",
   "metadata": {},
   "outputs": [
    {
     "name": "stdout",
     "output_type": "stream",
     "text": [
      "original DataFrame:\n",
      "     A     B    C       D\n",
      "0  1.0   5.0  NaN     dog\n",
      "1  2.0   NaN  2.0     cat\n",
      "2  NaN   NaN  3.0     NaN\n",
      "3  4.0   8.0  4.0   mouse\n",
      "4  5.0  10.0  NaN  rabbit\n"
     ]
    }
   ],
   "source": [
    "df=pd.DataFrame(data)\n",
    "print(\"original DataFrame:\")\n",
    "print(df)"
   ]
  },
  {
   "cell_type": "code",
   "execution_count": 14,
   "id": "587d8832-acd9-4aa4-8302-15791f73527a",
   "metadata": {},
   "outputs": [
    {
     "name": "stdout",
     "output_type": "stream",
     "text": [
      "\n",
      "Detect missing values:\n",
      "       A      B      C      D\n",
      "0  False  False   True  False\n",
      "1  False   True  False  False\n",
      "2   True   True  False   True\n",
      "3  False  False  False  False\n",
      "4  False  False   True  False\n",
      "\n",
      "DataFrame after dropping rows with any missing values:\n"
     ]
    }
   ],
   "source": [
    "print(\"\\nDetect missing values:\")\n",
    "print(df.isnull())\n",
    "df_dropna=df.dropna()\n",
    "print(\"\\nDataFrame after dropping rows with any missing values:\")\n"
   ]
  },
  {
   "cell_type": "code",
   "execution_count": 13,
   "id": "87399e6c-573b-4b3c-b60a-d62f9456b858",
   "metadata": {},
   "outputs": [
    {
     "name": "stdout",
     "output_type": "stream",
     "text": [
      "\n",
      "DataFrame after dropping rows with any missing values:\n"
     ]
    }
   ],
   "source": [
    "df_dropna=df.dropna()\n",
    "print(\"\\nDataFrame after dropping rows with any missing values:\")"
   ]
  },
  {
   "cell_type": "code",
   "execution_count": 15,
   "id": "2347863d-5ccc-4ba1-8a2b-0048d42075a5",
   "metadata": {},
   "outputs": [
    {
     "name": "stdout",
     "output_type": "stream",
     "text": [
      "\n",
      "DataFrame after dropping rows with missing values in columns 'A','B':\n",
      "     A     B    C       D\n",
      "0  1.0   5.0  NaN     dog\n",
      "3  4.0   8.0  4.0   mouse\n",
      "4  5.0  10.0  NaN  rabbit\n"
     ]
    }
   ],
   "source": [
    "df_dropna_subset=df.dropna(subset=['A','B'])\n",
    "print(\"\\nDataFrame after dropping rows with missing values in columns 'A','B':\")\n",
    "print(df_dropna_subset)"
   ]
  },
  {
   "cell_type": "code",
   "execution_count": 17,
   "id": "1b539923-8023-495a-ab36-0def1157e129",
   "metadata": {},
   "outputs": [
    {
     "name": "stdout",
     "output_type": "stream",
     "text": [
      "\n",
      "DataFrame after filling missing values with 0:\n",
      "     A     B    C       D\n",
      "0  1.0   5.0  0.0     dog\n",
      "1  2.0   0.0  2.0     cat\n",
      "2  0.0   0.0  3.0       0\n",
      "3  4.0   8.0  4.0   mouse\n",
      "4  5.0  10.0  0.0  rabbit\n"
     ]
    }
   ],
   "source": [
    "df_fillna=df.fillna(0)\n",
    "print(\"\\nDataFrame after filling missing values with 0:\")\n",
    "print(df_fillna)"
   ]
  },
  {
   "cell_type": "code",
   "execution_count": 19,
   "id": "4bd76ec8-dbb2-4233-9d0d-4d96346ff9f1",
   "metadata": {},
   "outputs": [
    {
     "name": "stdout",
     "output_type": "stream",
     "text": [
      "\n",
      "Dataframe after filling missing values with column mean:\n",
      "     A          B    C       D\n",
      "0  1.0   5.000000  3.0     dog\n",
      "1  2.0   7.666667  2.0     cat\n",
      "2  3.0   7.666667  3.0     NaN\n",
      "3  4.0   8.000000  4.0   mouse\n",
      "4  5.0  10.000000  3.0  rabbit\n"
     ]
    }
   ],
   "source": [
    "df_fillna_mean=df.fillna(df.mean(numeric_only=True))\n",
    "print(\"\\nDataframe after filling missing values with column mean:\")\n",
    "print(df_fillna_mean)"
   ]
  },
  {
   "cell_type": "code",
   "execution_count": 20,
   "id": "f14c2f76-3b7f-4d5a-a62f-0e5b28eac232",
   "metadata": {},
   "outputs": [
    {
     "name": "stdout",
     "output_type": "stream",
     "text": [
      "\n",
      "DataFrame after foward fill:\n",
      "     A     B    C       D\n",
      "0  1.0   5.0  NaN     dog\n",
      "1  2.0   5.0  2.0     cat\n",
      "2  2.0   5.0  3.0     cat\n",
      "3  4.0   8.0  4.0   mouse\n",
      "4  5.0  10.0  4.0  rabbit\n"
     ]
    }
   ],
   "source": [
    "df_ffill=df.ffill()\n",
    "print(\"\\nDataFrame after foward fill:\")\n",
    "print(df_ffill)"
   ]
  },
  {
   "cell_type": "code",
   "execution_count": 22,
   "id": "b65f7bf3-9362-49ce-834d-67d508fe62a6",
   "metadata": {},
   "outputs": [
    {
     "name": "stdout",
     "output_type": "stream",
     "text": [
      "\n",
      "DataFrame after interpolate:\n",
      "     A     B    C       D\n",
      "0  1.0   5.0  NaN     dog\n",
      "1  2.0   6.0  2.0     cat\n",
      "2  3.0   7.0  3.0     NaN\n",
      "3  4.0   8.0  4.0   mouse\n",
      "4  5.0  10.0  4.0  rabbit\n"
     ]
    },
    {
     "name": "stderr",
     "output_type": "stream",
     "text": [
      "C:\\Users\\Admin\\AppData\\Local\\Temp\\ipykernel_3272\\2876078083.py:1: FutureWarning: DataFrame.interpolate with object dtype is deprecated and will raise in a future version. Call obj.infer_objects(copy=False) before interpolating instead.\n",
      "  df_interpolate=df.interpolate()\n"
     ]
    }
   ],
   "source": [
    "df_interpolate=df.interpolate()\n",
    "print(\"\\nDataFrame after interpolate:\")\n",
    "print(df_interpolate)"
   ]
  },
  {
   "cell_type": "code",
   "execution_count": null,
   "id": "aa8ef1f0-5358-4adf-8c1a-6bb9bd222474",
   "metadata": {},
   "outputs": [],
   "source": []
  }
 ],
 "metadata": {
  "kernelspec": {
   "display_name": "Python 3 (ipykernel)",
   "language": "python",
   "name": "python3"
  },
  "language_info": {
   "codemirror_mode": {
    "name": "ipython",
    "version": 3
   },
   "file_extension": ".py",
   "mimetype": "text/x-python",
   "name": "python",
   "nbconvert_exporter": "python",
   "pygments_lexer": "ipython3",
   "version": "3.11.7"
  }
 },
 "nbformat": 4,
 "nbformat_minor": 5
}
